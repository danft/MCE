{
 "cells": [
  {
   "cell_type": "code",
   "execution_count": 7,
   "metadata": {},
   "outputs": [],
   "source": [
    "from sympy import *\n",
    "\n",
    "#from math import cos, sin, pi, sqrt, tan, fabs\n",
    "import numpy as np\n",
    "import matplotlib.pyplot as plt\n",
    "from scipy import optimize\n",
    "\n",
    "init_printing()\n",
    "\n",
    "%matplotlib inline\n",
    "\n"
   ]
  },
  {
   "cell_type": "code",
   "execution_count": 8,
   "metadata": {},
   "outputs": [
    {
     "data": {
      "image/png": "[encoded data removed]",
      "text/latex": [
       "$$\\frac{- 4 a^{2} b^{2} \\left(a^{2} m^{2} + b^{2}\\right)^{2} + a^{2} \\left(a m \\left(a m \\sqrt{\\frac{\\left(- D \\left(a^{2} m^{2} + b^{2}\\right) + 4 a^{2} b^{2} \\left(m^{2} + 1\\right)\\right) \\left(a^{2} m^{2} + b^{2}\\right)}{a^{2} b^{2} \\left(m^{2} + 1\\right)}} - b \\sqrt{\\frac{D \\left(a^{2} m^{2} + b^{2}\\right)^{2}}{a^{2} b^{2} \\left(m^{2} + 1\\right)}}\\right) + \\left(2 y_{1} - \\sqrt{\\frac{\\left(- D \\left(a^{2} m^{2} + b^{2}\\right) + 4 a^{2} b^{2} \\left(m^{2} + 1\\right)\\right) \\left(a^{2} m^{2} + b^{2}\\right)}{a^{2} b^{2} \\left(m^{2} + 1\\right)}}\\right) \\left(a^{2} m^{2} + b^{2}\\right)\\right)^{2} + b^{2} \\left(a^{2} m \\sqrt{\\frac{\\left(- D \\left(a^{2} m^{2} + b^{2}\\right) + 4 a^{2} b^{2} \\left(m^{2} + 1\\right)\\right) \\left(a^{2} m^{2} + b^{2}\\right)}{a^{2} b^{2} \\left(m^{2} + 1\\right)}} - a b \\sqrt{\\frac{D \\left(a^{2} m^{2} + b^{2}\\right)^{2}}{a^{2} b^{2} \\left(m^{2} + 1\\right)}} + 2 x_{1} \\left(a^{2} m^{2} + b^{2}\\right)\\right)^{2}}{4 a^{2} b^{2} \\left(a^{2} m^{2} + b^{2}\\right)^{2}}$$"
      ],
      "text/plain": [
       "                                                                              \n",
       "                             ⎛    ⎛                                           \n",
       "                             ⎜    ⎜          _________________________________\n",
       "                      2      ⎜    ⎜         ╱ ⎛    ⎛ 2  2    2⎞      2  2 ⎛ 2 \n",
       "     2  2 ⎛ 2  2    2⎞     2 ⎜    ⎜        ╱  ⎝- D⋅⎝a ⋅m  + b ⎠ + 4⋅a ⋅b ⋅⎝m  \n",
       "- 4⋅a ⋅b ⋅⎝a ⋅m  + b ⎠  + a ⋅⎜a⋅m⋅⎜a⋅m⋅   ╱   ────────────────────────────────\n",
       "                             ⎜    ⎜      ╱                       2  2 ⎛ 2    ⎞\n",
       "                             ⎝    ⎝    ╲╱                       a ⋅b ⋅⎝m  + 1⎠\n",
       "──────────────────────────────────────────────────────────────────────────────\n",
       "                                                                              \n",
       "                                                                              \n",
       "                                                                              \n",
       "\n",
       "                                                                              \n",
       "                               _________________⎞                             \n",
       "___________________           ╱               2 ⎟   ⎛             ____________\n",
       "   ⎞⎞ ⎛ 2  2    2⎞           ╱    ⎛ 2  2    2⎞  ⎟   ⎜            ╱ ⎛    ⎛ 2  2\n",
       "+ 1⎠⎠⋅⎝a ⋅m  + b ⎠          ╱   D⋅⎝a ⋅m  + b ⎠  ⎟   ⎜           ╱  ⎝- D⋅⎝a ⋅m \n",
       "──────────────────  - b⋅   ╱    ─────────────── ⎟ + ⎜2⋅y₁ -    ╱   ───────────\n",
       "                          ╱       2  2 ⎛ 2    ⎞ ⎟   ⎜         ╱               \n",
       "                        ╲╱       a ⋅b ⋅⎝m  + 1⎠ ⎠   ⎝       ╲╱                \n",
       "──────────────────────────────────────────────────────────────────────────────\n",
       "                                                                              \n",
       "                                                                              \n",
       "                                                                              \n",
       "\n",
       "                                                       2                      \n",
       "                                                      ⎞       ⎛               \n",
       "________________________________________⎞             ⎟       ⎜           ____\n",
       "    2⎞      2  2 ⎛ 2    ⎞⎞ ⎛ 2  2    2⎞ ⎟             ⎟       ⎜          ╱ ⎛  \n",
       " + b ⎠ + 4⋅a ⋅b ⋅⎝m  + 1⎠⎠⋅⎝a ⋅m  + b ⎠ ⎟ ⎛ 2  2    2⎞⎟     2 ⎜ 2       ╱  ⎝- \n",
       "─────────────────────────────────────── ⎟⋅⎝a ⋅m  + b ⎠⎟  + b ⋅⎜a ⋅m⋅   ╱   ───\n",
       "        2  2 ⎛ 2    ⎞                   ⎟             ⎟       ⎜       ╱       \n",
       "       a ⋅b ⋅⎝m  + 1⎠                   ⎠             ⎠       ⎝     ╲╱        \n",
       "──────────────────────────────────────────────────────────────────────────────\n",
       "                     2                                                        \n",
       "    2  2 ⎛ 2  2    2⎞                                                         \n",
       " 4⋅a ⋅b ⋅⎝a ⋅m  + b ⎠                                                         \n",
       "\n",
       "                                                                              \n",
       "                                                              ________________\n",
       "________________________________________________             ╱               2\n",
       "  ⎛ 2  2    2⎞      2  2 ⎛ 2    ⎞⎞ ⎛ 2  2    2⎞             ╱    ⎛ 2  2    2⎞ \n",
       "D⋅⎝a ⋅m  + b ⎠ + 4⋅a ⋅b ⋅⎝m  + 1⎠⎠⋅⎝a ⋅m  + b ⎠            ╱   D⋅⎝a ⋅m  + b ⎠ \n",
       "───────────────────────────────────────────────  - a⋅b⋅   ╱    ───────────────\n",
       "                2  2 ⎛ 2    ⎞                            ╱       2  2 ⎛ 2    ⎞\n",
       "               a ⋅b ⋅⎝m  + 1⎠                          ╲╱       a ⋅b ⋅⎝m  + 1⎠\n",
       "──────────────────────────────────────────────────────────────────────────────\n",
       "                                                                              \n",
       "                                                                              \n",
       "                                                                              \n",
       "\n",
       "                      2\n",
       "_                    ⎞ \n",
       "                     ⎟ \n",
       "                     ⎟ \n",
       "         ⎛ 2  2    2⎞⎟ \n",
       "  + 2⋅x₁⋅⎝a ⋅m  + b ⎠⎟ \n",
       "                     ⎟ \n",
       "                     ⎠ \n",
       "───────────────────────\n",
       "                       \n",
       "                       \n",
       "                       "
      ]
     },
     "execution_count": 8,
     "metadata": {},
     "output_type": "execute_result"
    }
   ],
   "source": [
    "m=Symbol('m')\n",
    "a=Symbol('a')\n",
    "b=Symbol('b')\n",
    "x1=Symbol('x1')\n",
    "y1=Symbol('y1')\n",
    "x2=Symbol('x2')\n",
    "y2=Symbol('y2')\n",
    "D=Symbol('D')\n",
    "\n",
    "A = 4*a**2*b**2*(1+m**2)\n",
    "B = a**2*m**2 + b**2\n",
    "\n",
    "c = sqrt((B*A-D*B**2)/A)\n",
    "\n",
    "px1 = (-a**2*m*c+a*b*sqrt(a**2*m**2+b**2-c**2))/(a**2*m**2 + b**2)\n",
    "py1 = px1*m + c\n",
    "\n",
    "dx1 = px1-x1\n",
    "dy1 = py1-y1\n",
    "\n",
    "e= dx1**2/a**2 + dy1**2/b**2-1\n",
    "simplify(e)"
   ]
  },
  {
   "cell_type": "code",
   "execution_count": null,
   "metadata": {},
   "outputs": [],
   "source": []
  }
 ],
 "metadata": {
  "kernelspec": {
   "display_name": "Python 3",
   "language": "python",
   "name": "python3"
  },
  "language_info": {
   "codemirror_mode": {
    "name": "ipython",
    "version": 3
   },
   "file_extension": ".py",
   "mimetype": "text/x-python",
   "name": "python",
   "nbconvert_exporter": "python",
   "pygments_lexer": "ipython3",
   "version": "3.7.3"
  }
 },
 "nbformat": 4,
 "nbformat_minor": 2
}
