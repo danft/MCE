{
 "cells": [
  {
   "cell_type": "code",
   "execution_count": 1,
   "metadata": {},
   "outputs": [],
   "source": [
    "from sympy import *\n",
    "init_printing()"
   ]
  },
  {
   "cell_type": "code",
   "execution_count": 5,
   "metadata": {},
   "outputs": [
    {
     "data": {
      "image/png": "[encoded data removed]",
      "text/latex": [
       "$$\\left(\\left(2 t x_{2} - y_{2} \\left(t^{2} - 1\\right)\\right)^{2} + \\left(2 t y_{2} + x_{2} \\left(t^{2} - 1\\right)\\right)^{2}\\right) \\left(\\left(2 t x_{3} - y_{3} \\left(t^{2} - 1\\right)\\right)^{2} + \\left(2 t y_{3} + x_{3} \\left(t^{2} - 1\\right)\\right)^{2}\\right) \\left(\\left(2 t x_{2} - 2 t x_{3} - y_{2} \\left(t^{2} - 1\\right) + y_{3} \\left(t^{2} - 1\\right)\\right)^{2} + \\left(2 t y_{2} - 2 t y_{3} + x_{2} \\left(t^{2} - 1\\right) - x_{3} \\left(t^{2} - 1\\right)\\right)^{2}\\right)$$"
      ],
      "text/plain": [
       "⎛                      2                         2⎞ ⎛                      2  \n",
       "⎜⎛            ⎛ 2    ⎞⎞    ⎛            ⎛ 2    ⎞⎞ ⎟ ⎜⎛            ⎛ 2    ⎞⎞   \n",
       "⎝⎝2⋅t⋅x₂ - y₂⋅⎝t  - 1⎠⎠  + ⎝2⋅t⋅y₂ + x₂⋅⎝t  - 1⎠⎠ ⎠⋅⎝⎝2⋅t⋅x₃ - y₃⋅⎝t  - 1⎠⎠  +\n",
       "\n",
       "                       2⎞ ⎛                                             2     \n",
       " ⎛            ⎛ 2    ⎞⎞ ⎟ ⎜⎛                     ⎛ 2    ⎞      ⎛ 2    ⎞⎞    ⎛ \n",
       " ⎝2⋅t⋅y₃ + x₃⋅⎝t  - 1⎠⎠ ⎠⋅⎝⎝2⋅t⋅x₂ - 2⋅t⋅x₃ - y₂⋅⎝t  - 1⎠ + y₃⋅⎝t  - 1⎠⎠  + ⎝2\n",
       "\n",
       "                                           2⎞\n",
       "                    ⎛ 2    ⎞      ⎛ 2    ⎞⎞ ⎟\n",
       "⋅t⋅y₂ - 2⋅t⋅y₃ + x₂⋅⎝t  - 1⎠ - x₃⋅⎝t  - 1⎠⎠ ⎠"
      ]
     },
     "execution_count": 5,
     "metadata": {},
     "output_type": "execute_result"
    }
   ],
   "source": [
    "#A = Symbol('A')\n",
    "a = Symbol('a')\n",
    "b = Symbol('b')\n",
    "C = 1\n",
    "q = Symbol('q')\n",
    "x2 = Symbol('x2')\n",
    "y2 = Symbol('y2')\n",
    "x3 = Symbol('x3')\n",
    "y3 = Symbol('y3')\n",
    "x = Symbol('x')\n",
    "y = Symbol('y')\n",
    "r = Symbol('r')\n",
    "\n",
    "#w = (a**2-b**2)/(a**2+b**2)\n",
    "w = Symbol('w')\n",
    "t = Symbol('t')\n",
    "\n",
    "co = t**2 - 1\n",
    "si = 2*t\n",
    "\n",
    "px2 = x2 * co + y2 * si\n",
    "py2 = x2 * si - y2 * co\n",
    "\n",
    "px3 = x3 * co + y3 * si\n",
    "py3 = x3 * si - y3 * co\n",
    "\n",
    "e1 = px2**2 + py2**2\n",
    "e2 = px3**2 + py3**2\n",
    "e3 = (px2-px3)**2 + (py2-py3)**2\n",
    "e = e1 * e2 * e3\n",
    "simplify(e)"
   ]
  },
  {
   "cell_type": "code",
   "execution_count": 56,
   "metadata": {},
   "outputs": [
    {
     "data": {
      "image/png": "[encoded data removed]",
      "text/latex": [
       "$$\\frac{2 x_{2} \\left(\\frac{1}{t} - \\frac{w + \\sqrt{t^{2} + 1}}{2 t w}\\right) \\left(u \\left(- \\frac{1}{t} + \\frac{w + \\sqrt{t^{2} + 1}}{2 t w}\\right) + v\\right) + 2 \\left(- \\frac{1}{t} + \\frac{w + \\sqrt{t^{2} + 1}}{2 t w}\\right) \\left(u \\left(- \\frac{1}{t} + \\frac{w + \\sqrt{t^{2} + 1}}{2 t w}\\right) + v\\right)^{2} + \\frac{x_{2}^{2} \\left(\\frac{1}{t} - \\frac{w + \\sqrt{t^{2} + 1}}{2 t w}\\right)^{2} \\left(w + \\sqrt{t^{2} + 1}\\right)}{t w}}{\\left(-1 + \\frac{\\left(- \\frac{4}{t} + \\frac{2 \\left(w + \\sqrt{t^{2} + 1}\\right)}{t w}\\right) \\left(w + \\sqrt{t^{2} + 1}\\right)}{2 t w}\\right) \\left(- \\sqrt{1 + \\frac{1}{t^{2}}} - \\frac{1}{t} + \\frac{w + \\sqrt{t^{2} + 1}}{t w}\\right)}$$"
      ],
      "text/plain": [
       "                                                                              \n",
       "                                                                              \n",
       "                                                                              \n",
       "     ⎛           ________⎞ ⎛  ⎛             ________⎞    ⎞     ⎛             _\n",
       "     ⎜          ╱  2     ⎟ ⎜  ⎜            ╱  2     ⎟    ⎟     ⎜            ╱ \n",
       "     ⎜1   w + ╲╱  t  + 1 ⎟ ⎜  ⎜  1   w + ╲╱  t  + 1 ⎟    ⎟     ⎜  1   w + ╲╱  \n",
       "2⋅x₂⋅⎜─ - ───────────────⎟⋅⎜u⋅⎜- ─ + ───────────────⎟ + v⎟ + 2⋅⎜- ─ + ────────\n",
       "     ⎝t        2⋅t⋅w     ⎠ ⎝  ⎝  t        2⋅t⋅w     ⎠    ⎠     ⎝  t        2⋅t\n",
       "──────────────────────────────────────────────────────────────────────────────\n",
       "                                     ⎛     ⎛        ⎛       ________⎞⎞        \n",
       "                                     ⎜     ⎜        ⎜      ╱  2     ⎟⎟ ⎛      \n",
       "                                     ⎜     ⎜  4   2⋅⎝w + ╲╱  t  + 1 ⎠⎟ ⎜      \n",
       "                                     ⎜     ⎜- ─ + ───────────────────⎟⋅⎝w + ╲╱\n",
       "                                     ⎜     ⎝  t           t⋅w        ⎠        \n",
       "                                     ⎜-1 + ───────────────────────────────────\n",
       "                                     ⎝                         2⋅t⋅w          \n",
       "                                                                              \n",
       "\n",
       "                                                                     2        \n",
       "                                                ⎛           ________⎞         \n",
       "                                        2       ⎜          ╱  2     ⎟  ⎛      \n",
       "_______⎞ ⎛  ⎛             ________⎞    ⎞      2 ⎜1   w + ╲╱  t  + 1 ⎟  ⎜      \n",
       " 2     ⎟ ⎜  ⎜            ╱  2     ⎟    ⎟    x₂ ⋅⎜─ - ───────────────⎟ ⋅⎝w + ╲╱\n",
       "t  + 1 ⎟ ⎜  ⎜  1   w + ╲╱  t  + 1 ⎟    ⎟        ⎝t        2⋅t⋅w     ⎠         \n",
       "───────⎟⋅⎜u⋅⎜- ─ + ───────────────⎟ + v⎟  + ──────────────────────────────────\n",
       "⋅w     ⎠ ⎝  ⎝  t        2⋅t⋅w     ⎠    ⎠                        t⋅w           \n",
       "──────────────────────────────────────────────────────────────────────────────\n",
       "          ⎞                                                                   \n",
       " ________⎞⎟                                                                   \n",
       "╱  2     ⎟⎟ ⎛                             ________⎞                           \n",
       "  t  + 1 ⎠⎟ ⎜       ________             ╱  2     ⎟                           \n",
       "          ⎟ ⎜      ╱     1     1   w + ╲╱  t  + 1 ⎟                           \n",
       "──────────⎟⋅⎜-    ╱  1 + ──  - ─ + ───────────────⎟                           \n",
       "          ⎠ ⎜    ╱        2    t         t⋅w      ⎟                           \n",
       "            ⎝  ╲╱        t                        ⎠                           \n",
       "\n",
       "          \n",
       "          \n",
       " ________⎞\n",
       "╱  2     ⎟\n",
       "  t  + 1 ⎠\n",
       "          \n",
       "──────────\n",
       "          \n",
       "──────────\n",
       "          \n",
       "          \n",
       "          \n",
       "          \n",
       "          \n",
       "          \n",
       "          \n",
       "          "
      ]
     },
     "execution_count": 56,
     "metadata": {},
     "output_type": "execute_result"
    }
   ],
   "source": [
    "#second try\n",
    "\n",
    "#w = (a**2-b**2)/(a**2+b**2)\n",
    "k = Symbol('k')\n",
    "h = Symbol('h')\n",
    "u = Symbol('u')\n",
    "v = Symbol('v')\n",
    "t = Symbol('t')\n",
    "#th = Symbol('th')\n",
    "\n",
    "C = (w + 1/cos(t))/(2*tan(t)*w)\n",
    "C = (w + sqrt(1+t**2))/(2*t*w)\n",
    "r = Symbol('r')\n",
    "s = Symbol('s')\n",
    "\n",
    "#r = cot(t)\n",
    "#s = csc(t)\n",
    "\n",
    "#C = r/2 + s/(2*w)\n",
    "\n",
    "#C = Symbol('C')\n",
    "A = C - 1/t\n",
    "#A = (-C*w**2 - C - sqrt(4*C**2*w**2 + w**2-1))/(w**2-1)\n",
    "#A = Symbol('A')\n",
    "B = -1\n",
    "\n",
    "E = -C*y2\n",
    "D = -(A*x3**2 + B*x3*y3 + C*(y3**2-y2*y3))/x3\n",
    "#D = Symbol('D')\n",
    "\n",
    "\n",
    "#x = -(D+E)/(A+B+C)\n",
    "#y = -(D+E)/(A+B+C)\n",
    "#x=-D/A\n",
    "#y=y3\n",
    "#y = 0\n",
    "H = (A+C - sqrt((A-C)**2 + B**2))\n",
    "#H = s*(1-w)/w\n",
    "\n",
    "Delta = 4*A*C - B**2\n",
    "#Delta = (w**2-1)*s**2\n",
    "\n",
    "E = A * u + v\n",
    "D = -A * x2\n",
    "\n",
    "e = 2*(A*E**2 - B*D*E + C*D**2)/(H*Delta)\n",
    "#/(4*A*C-B**2))/H\n",
    "#diff(e,t)\n",
    "#H*Delta\n",
    "e"
   ]
  },
  {
   "cell_type": "code",
   "execution_count": 81,
   "metadata": {},
   "outputs": [
    {
     "data": {
      "image/png": "[encoded data removed]",
      "text/latex": [
       "$$\\left [ \\frac{- w + \\sqrt{t^{2} + 1}}{2 t w}, \\quad - \\frac{w + \\sqrt{t^{2} + 1}}{2 t w}\\right ]$$"
      ],
      "text/plain": [
       "⎡        ________   ⎛       ________⎞ ⎤\n",
       "⎢       ╱  2        ⎜      ╱  2     ⎟ ⎥\n",
       "⎢-w + ╲╱  t  + 1   -⎝w + ╲╱  t  + 1 ⎠ ⎥\n",
       "⎢────────────────, ───────────────────⎥\n",
       "⎣     2⋅t⋅w               2⋅t⋅w       ⎦"
      ]
     },
     "execution_count": 81,
     "metadata": {},
     "output_type": "execute_result"
    }
   ],
   "source": [
    "A=Symbol('A')\n",
    "C = Symbol('C')\n",
    "#t = tan(th)\n",
    "\n",
    "C = A + 1/t\n",
    "e = w**2*(A+C)**2 - (A-C)**2 - 1\n",
    "#U = solve(e, C)\n",
    "\n",
    "#C = U[1]\n",
    "\n",
    "#e = A * C - 1/4\n",
    "solve(e, A)"
   ]
  },
  {
   "cell_type": "code",
   "execution_count": 80,
   "metadata": {},
   "outputs": [
    {
     "data": {
      "image/png": "[encoded data removed]",
      "text/latex": [
       "$$\\left(-1 + \\frac{2 \\left(r + w\\right) \\left(\\frac{1}{t} + \\frac{r + w}{2 t w}\\right)}{t w}\\right) \\left(- \\sqrt{1 + \\frac{1}{t^{2}}} + \\frac{1}{t} + \\frac{r + w}{t w}\\right)$$"
      ],
      "text/plain": [
       "⎛               ⎛1   r + w⎞⎞                              \n",
       "⎜     2⋅(r + w)⋅⎜─ + ─────⎟⎟ ⎛       ________            ⎞\n",
       "⎜               ⎝t   2⋅t⋅w⎠⎟ ⎜      ╱     1     1   r + w⎟\n",
       "⎜-1 + ─────────────────────⎟⋅⎜-    ╱  1 + ──  + ─ + ─────⎟\n",
       "⎝              t⋅w         ⎠ ⎜    ╱        2    t    t⋅w ⎟\n",
       "                             ⎝  ╲╱        t              ⎠"
      ]
     },
     "execution_count": 80,
     "metadata": {},
     "output_type": "execute_result"
    }
   ],
   "source": [
    "r = Symbol('r')\n",
    "be = Symbol('be')\n",
    "m = Symbol('m')\n",
    "t = Symbol('t')\n",
    "C = (-A*w**2 -A - sqrt(4*A**2*w**2 + w**2 - 1))/(w**2 - 1)\n",
    "A = (w + r)/(2*t*w)\n",
    "C = A + 1/t\n",
    "B = -1\n",
    "H = (4*A*C-B**2)*(A+C - sqrt((A-C)**2 + B**2))\n",
    "be = (-A*(al-1) + al * m - C * m**2*al)/m\n",
    "e = (a**2*H)/(A * be**2 - A * be + C * A**2)\n",
    "H"
   ]
  },
  {
   "cell_type": "code",
   "execution_count": 88,
   "metadata": {},
   "outputs": [
    {
     "data": {
      "image/png": "[encoded data removed]",
      "text/latex": [
       "$$- \\frac{\\sqrt{- \\frac{a^{4} \\left(2 C - w\\right)^{2} - \\left(a^{2} w - 1\\right)^{2}}{a^{4}}} \\left(C - w\\right) \\left(x_{1} + x_{2}\\right) \\left(C y_{3}^{2} - x_{1} x_{2} \\left(C - w\\right)\\right)}{y_{3}}$$"
      ],
      "text/plain": [
       "        _________________________________                                     \n",
       "       ╱  ⎛                          2⎞                                       \n",
       "      ╱   ⎜ 4          2   ⎛ 2      ⎞ ⎟                                       \n",
       "     ╱   -⎝a ⋅(2⋅C - w)  - ⎝a ⋅w - 1⎠ ⎠                     ⎛    2            \n",
       "-   ╱    ─────────────────────────────── ⋅(C - w)⋅(x₁ + x₂)⋅⎝C⋅y₃  - x₁⋅x₂⋅(C \n",
       "   ╱                     4                                                    \n",
       " ╲╱                     a                                                     \n",
       "──────────────────────────────────────────────────────────────────────────────\n",
       "                                         y₃                                   \n",
       "\n",
       "      \n",
       "      \n",
       "      \n",
       "    ⎞ \n",
       "- w)⎠ \n",
       "      \n",
       "      \n",
       "──────\n",
       "      "
      ]
     },
     "execution_count": 88,
     "metadata": {},
     "output_type": "execute_result"
    }
   ],
   "source": [
    "x1=Symbol('x1')\n",
    "x2=Symbol('x2')\n",
    "y3=Symbol('y3')\n",
    "C = Symbol('C')\n",
    "w = Symbol('w')\n",
    "a = Symbol('a')\n",
    "A = w-C\n",
    "F=A*x1*x2\n",
    "D=-A*(x1+x2)\n",
    "E=-(A*x1*x2 + C*y3**2)/y3\n",
    "B=sqrt((w-1/a**2)**2 -(w-2*C)**2)\n",
    "Delta=4*A*C-B**2\n",
    "e = (A*E**2 - B*D*E + C*D**2)/Delta - 1\n",
    "#expand(e)\n",
    "e2 = B*D*E\n",
    "simplify(e2)"
   ]
  },
  {
   "cell_type": "code",
   "execution_count": null,
   "metadata": {},
   "outputs": [],
   "source": []
  }
 ],
 "metadata": {
  "kernelspec": {
   "display_name": "Python 3",
   "language": "python",
   "name": "python3"
  },
  "language_info": {
   "codemirror_mode": {
    "name": "ipython",
    "version": 3
   },
   "file_extension": ".py",
   "mimetype": "text/x-python",
   "name": "python",
   "nbconvert_exporter": "python",
   "pygments_lexer": "ipython3",
   "version": "3.7.3"
  }
 },
 "nbformat": 4,
 "nbformat_minor": 2
}
