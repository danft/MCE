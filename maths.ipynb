{
 "cells": [
  {
   "cell_type": "code",
   "execution_count": 1,
   "metadata": {},
   "outputs": [],
   "source": [
    "from sympy import *\n",
    "init_printing()"
   ]
  },
  {
   "cell_type": "code",
   "execution_count": 97,
   "metadata": {},
   "outputs": [
    {
     "data": {
      "image/png": "[encoded data removed]",
      "text/latex": [
       "$$\\frac{\\frac{2 y_{2}^{2} \\left(r^{2} + w^{2} + 2 w \\sqrt{r^{2} + 1} + 1\\right)}{r^{2} - w^{2} + 1} + \\frac{2 y_{2} \\sqrt{w^{2} \\left(1 + \\frac{r^{2} + w^{2} + 2 w \\sqrt{r^{2} + 1} + 1}{r^{2} - w^{2} + 1}\\right)^{2} - \\left(-1 + \\frac{r^{2} + w^{2} + 2 w \\sqrt{r^{2} + 1} + 1}{r^{2} - w^{2} + 1}\\right)^{2}} \\left(- \\frac{x_{3}^{2} \\left(r^{2} + w^{2} + 2 w \\sqrt{r^{2} + 1} + 1\\right)}{r^{2} - w^{2} + 1} - x_{3} y_{3} \\sqrt{w^{2} \\left(1 + \\frac{r^{2} + w^{2} + 2 w \\sqrt{r^{2} + 1} + 1}{r^{2} - w^{2} + 1}\\right)^{2} - \\left(-1 + \\frac{r^{2} + w^{2} + 2 w \\sqrt{r^{2} + 1} + 1}{r^{2} - w^{2} + 1}\\right)^{2}} + y_{2} y_{3} - y_{3}^{2}\\right)}{x_{3}} + \\frac{2 \\left(- \\frac{x_{3}^{2} \\left(r^{2} + w^{2} + 2 w \\sqrt{r^{2} + 1} + 1\\right)}{r^{2} - w^{2} + 1} - x_{3} y_{3} \\sqrt{w^{2} \\left(1 + \\frac{r^{2} + w^{2} + 2 w \\sqrt{r^{2} + 1} + 1}{r^{2} - w^{2} + 1}\\right)^{2} - \\left(-1 + \\frac{r^{2} + w^{2} + 2 w \\sqrt{r^{2} + 1} + 1}{r^{2} - w^{2} + 1}\\right)^{2}} + y_{2} y_{3} - y_{3}^{2}\\right)^{2}}{x_{3}^{2}}}{\\left(- \\sqrt{w^{2} \\left(1 + \\frac{r^{2} + w^{2} + 2 w \\sqrt{r^{2} + 1} + 1}{r^{2} - w^{2} + 1}\\right)^{2}} + 1 + \\frac{r^{2} + w^{2} + 2 w \\sqrt{r^{2} + 1} + 1}{r^{2} - w^{2} + 1}\\right) \\left(- w^{2} \\left(1 + \\frac{r^{2} + w^{2} + 2 w \\sqrt{r^{2} + 1} + 1}{r^{2} - w^{2} + 1}\\right)^{2} + \\left(-1 + \\frac{r^{2} + w^{2} + 2 w \\sqrt{r^{2} + 1} + 1}{r^{2} - w^{2} + 1}\\right)^{2} + \\frac{4 \\left(r^{2} + w^{2} + 2 w \\sqrt{r^{2} + 1} + 1\\right)}{r^{2} - w^{2} + 1}\\right)}$$"
      ],
      "text/plain": [
       "                                                                              \n",
       "                                                     _________________________\n",
       "                                                    ╱                         \n",
       "                                                   ╱     ⎛                    \n",
       "                                                  ╱      ⎜     2    2         \n",
       "                                                 ╱     2 ⎜    r  + w  + 2⋅w⋅╲╱\n",
       "      ⎛                 ________    ⎞   2⋅y₂⋅   ╱     w ⋅⎜1 + ────────────────\n",
       "    2 ⎜ 2    2         ╱  2         ⎟          ╱         ⎜              2    2\n",
       "2⋅y₂ ⋅⎝r  + w  + 2⋅w⋅╲╱  r  + 1  + 1⎠        ╲╱          ⎝             r  - w \n",
       "───────────────────────────────────── + ──────────────────────────────────────\n",
       "              2    2                                                          \n",
       "             r  - w  + 1                                                      \n",
       "──────────────────────────────────────────────────────────────────────────────\n",
       "                                                                              \n",
       "                                                                              \n",
       "                                                                              \n",
       "                                                                              \n",
       "                                                                              \n",
       "                                                                              \n",
       "                                                                              \n",
       "                                                                              \n",
       "\n",
       "                                                                              \n",
       "________________________________________________________ ⎛                    \n",
       "              2                                       2  ⎜                    \n",
       " ________    ⎞    ⎛                      ________    ⎞   ⎜      ⎛             \n",
       "╱  2         ⎟    ⎜      2    2         ╱  2         ⎟   ⎜    2 ⎜ 2    2      \n",
       "  r  + 1  + 1⎟    ⎜     r  + w  + 2⋅w⋅╲╱  r  + 1  + 1⎟   ⎜  x₃ ⋅⎝r  + w  + 2⋅w\n",
       "─────────────⎟  - ⎜-1 + ─────────────────────────────⎟  ⋅⎜- ──────────────────\n",
       "             ⎟    ⎜               2    2             ⎟   ⎜               2    \n",
       " + 1         ⎠    ⎝              r  - w  + 1         ⎠   ⎝              r  - w\n",
       "──────────────────────────────────────────────────────────────────────────────\n",
       "                                                                              \n",
       "                                                                              \n",
       "──────────────────────────────────────────────────────────────────────────────\n",
       "                                       ⎛          ____________________________\n",
       "                                       ⎜         ╱                            \n",
       "                                       ⎜        ╱     ⎛                     __\n",
       "                                       ⎜       ╱      ⎜     2    2         ╱  \n",
       "                                       ⎜      ╱     2 ⎜    r  + w  + 2⋅w⋅╲╱  r\n",
       "                                       ⎜-    ╱     w ⋅⎜1 + ───────────────────\n",
       "                                       ⎜    ╱         ⎜              2    2   \n",
       "                                       ⎝  ╲╱          ⎝             r  - w  + \n",
       "\n",
       "                                                                              \n",
       "                                  ____________________________________________\n",
       "                                 ╱                                       2    \n",
       "    ________    ⎞               ╱     ⎛                     ________    ⎞    ⎛\n",
       "   ╱  2         ⎟              ╱      ⎜     2    2         ╱  2         ⎟    ⎜\n",
       "⋅╲╱  r  + 1  + 1⎠             ╱     2 ⎜    r  + w  + 2⋅w⋅╲╱  r  + 1  + 1⎟    ⎜\n",
       "───────────────── - x₃⋅y₃⋅   ╱     w ⋅⎜1 + ─────────────────────────────⎟  - ⎜\n",
       "2                           ╱         ⎜              2    2             ⎟    ⎜\n",
       "  + 1                     ╲╱          ⎝             r  - w  + 1         ⎠    ⎝\n",
       "──────────────────────────────────────────────────────────────────────────────\n",
       "      x₃                                                                      \n",
       "                                                                              \n",
       "──────────────────────────────────────────────────────────────────────────────\n",
       "_____________                                    ⎞                            \n",
       "           2                                     ⎟ ⎛                          \n",
       "______    ⎞                          ________    ⎟ ⎜     ⎛                    \n",
       "2         ⎟          2    2         ╱  2         ⎟ ⎜     ⎜     2    2         \n",
       "  + 1  + 1⎟         r  + w  + 2⋅w⋅╲╱  r  + 1  + 1⎟ ⎜   2 ⎜    r  + w  + 2⋅w⋅╲╱\n",
       "──────────⎟   + 1 + ─────────────────────────────⎟⋅⎜- w ⋅⎜1 + ────────────────\n",
       "          ⎟                   2    2             ⎟ ⎜     ⎜              2    2\n",
       "1         ⎠                  r  - w  + 1         ⎠ ⎝     ⎝             r  - w \n",
       "\n",
       "                                                                              \n",
       "_____________________________________              ⎞     ⎛                    \n",
       "                                   2               ⎟     ⎜                    \n",
       "                      ________    ⎞                ⎟     ⎜      ⎛             \n",
       "      2    2         ╱  2         ⎟                ⎟     ⎜    2 ⎜ 2    2      \n",
       "     r  + w  + 2⋅w⋅╲╱  r  + 1  + 1⎟               2⎟     ⎜  x₃ ⋅⎝r  + w  + 2⋅w\n",
       "-1 + ─────────────────────────────⎟   + y₂⋅y₃ - y₃ ⎟   2⋅⎜- ──────────────────\n",
       "               2    2             ⎟                ⎟     ⎜               2    \n",
       "              r  - w  + 1         ⎠                ⎠     ⎝              r  - w\n",
       "──────────────────────────────────────────────────── + ───────────────────────\n",
       "                                                                              \n",
       "                                                                              \n",
       "──────────────────────────────────────────────────────────────────────────────\n",
       "                                                                              \n",
       "              2                                       2                       \n",
       " ________    ⎞    ⎛                      ________    ⎞      ⎛                 \n",
       "╱  2         ⎟    ⎜      2    2         ╱  2         ⎟      ⎜ 2    2         ╱\n",
       "  r  + 1  + 1⎟    ⎜     r  + w  + 2⋅w⋅╲╱  r  + 1  + 1⎟    4⋅⎝r  + w  + 2⋅w⋅╲╱ \n",
       "─────────────⎟  + ⎜-1 + ─────────────────────────────⎟  + ────────────────────\n",
       "             ⎟    ⎜               2    2             ⎟                2    2  \n",
       " + 1         ⎠    ⎝              r  - w  + 1         ⎠               r  - w  +\n",
       "\n",
       "                                                                              \n",
       "                                  ____________________________________________\n",
       "                                 ╱                                       2    \n",
       "    ________    ⎞               ╱     ⎛                     ________    ⎞    ⎛\n",
       "   ╱  2         ⎟              ╱      ⎜     2    2         ╱  2         ⎟    ⎜\n",
       "⋅╲╱  r  + 1  + 1⎠             ╱     2 ⎜    r  + w  + 2⋅w⋅╲╱  r  + 1  + 1⎟    ⎜\n",
       "───────────────── - x₃⋅y₃⋅   ╱     w ⋅⎜1 + ─────────────────────────────⎟  - ⎜\n",
       "2                           ╱         ⎜              2    2             ⎟    ⎜\n",
       "  + 1                     ╲╱          ⎝             r  - w  + 1         ⎠    ⎝\n",
       "──────────────────────────────────────────────────────────────────────────────\n",
       "                                                      2                       \n",
       "                                                    x₃                        \n",
       "──────────────────────────────────────────────────────────────────────────────\n",
       "                                                                              \n",
       "             ⎞                                                                \n",
       "________    ⎞⎟                                                                \n",
       "  2         ⎟⎟                                                                \n",
       " r  + 1  + 1⎠⎟                                                                \n",
       "─────────────⎟                                                                \n",
       "             ⎟                                                                \n",
       " 1           ⎠                                                                \n",
       "\n",
       "                                                    2\n",
       "_____________________________________              ⎞ \n",
       "                                   2               ⎟ \n",
       "                      ________    ⎞                ⎟ \n",
       "      2    2         ╱  2         ⎟                ⎟ \n",
       "     r  + w  + 2⋅w⋅╲╱  r  + 1  + 1⎟               2⎟ \n",
       "-1 + ─────────────────────────────⎟   + y₂⋅y₃ - y₃ ⎟ \n",
       "               2    2             ⎟                ⎟ \n",
       "              r  - w  + 1         ⎠                ⎠ \n",
       "─────────────────────────────────────────────────────\n",
       "                                                     \n",
       "                                                     \n",
       "─────────────────────────────────────────────────────\n",
       "                                                     \n",
       "                                                     \n",
       "                                                     \n",
       "                                                     \n",
       "                                                     \n",
       "                                                     \n",
       "                                                     \n",
       "                                                     "
      ]
     },
     "execution_count": 97,
     "metadata": {},
     "output_type": "execute_result"
    }
   ],
   "source": [
    "#A = Symbol('A')\n",
    "a = Symbol('a')\n",
    "b = Symbol('b')\n",
    "C = 1\n",
    "q = Symbol('q')\n",
    "x2 = Symbol('x2')\n",
    "y2 = Symbol('y2')\n",
    "x3 = Symbol('x3')\n",
    "y3 = Symbol('y3')\n",
    "x = Symbol('x')\n",
    "y = Symbol('y')\n",
    "r = Symbol('r')\n",
    "\n",
    "#w = (a**2-b**2)/(a**2+b**2)\n",
    "w = Symbol('w')\n",
    "\n",
    "A = (r**2 + w**2 + 2*w * sqrt(r**2 + 1) + 1)/(r**2 - w**2 + 1)\n",
    "B = sqrt(w**2*(A+C)**2 - (A-C)**2)\n",
    "\n",
    "\n",
    "E = -C*y2\n",
    "D = -(A*x3**2 + B*x3*y3 + C*(y3**2-y2*y3))/x3\n",
    "\n",
    "#x = -(D+E)/(A+B+C)\n",
    "#y = -(D+E)/(A+B+C)\n",
    "x=-D/A\n",
    "#y=y3\n",
    "#y = 0\n",
    "H = (A+C - sqrt((A-C)**2 + B**2))\n",
    "\n",
    "e = (2*(A*E**2 - B*D*E + C*D**2)/(4*A*C-B**2))/H\n",
    "\n",
    "e#simplify(H)\n",
    "#H = 2*((B*y +D)**2 - 4*A*(C*y**2 + E*y))\n",
    "\n",
    "#Z = (A-C)**2*q**2-B**2\n",
    "#solve(Z, A)\n",
    "#simplify(Z)"
   ]
  },
  {
   "cell_type": "code",
   "execution_count": 109,
   "metadata": {},
   "outputs": [
    {
     "data": {
      "image/png": "[encoded data removed]",
      "text/latex": [
       "$$\\frac{2 A C^{2} y_{2}^{2} + 2 C D^{2} + 2 C D y_{2}}{\\left(4 A C - 1\\right) \\left(A + C - \\sqrt{\\left(A - C\\right)^{2} + 1}\\right)}$$"
      ],
      "text/plain": [
       "          2   2        2               \n",
       "     2⋅A⋅C ⋅y₂  + 2⋅C⋅D  + 2⋅C⋅D⋅y₂    \n",
       "───────────────────────────────────────\n",
       "            ⎛           ______________⎞\n",
       "            ⎜          ╱        2     ⎟\n",
       "(4⋅A⋅C - 1)⋅⎝A + C - ╲╱  (A - C)  + 1 ⎠"
      ]
     },
     "execution_count": 109,
     "metadata": {},
     "output_type": "execute_result"
    }
   ],
   "source": [
    "#second try\n",
    "\n",
    "#w = (a**2-b**2)/(a**2+b**2)\n",
    "k = Symbol('k')\n",
    "t = Symbol('t')\n",
    "\n",
    "C = (-w - sqrt(t**2 + 1)/(2*t*w))\n",
    "C = Symbol('C')\n",
    "A = k * C\n",
    "A = (-C*w**2 - C - sqrt(4*C**2*w**2 + w**2-1))/(w**2-1)\n",
    "A = Symbol('A')\n",
    "B = 1\n",
    "\n",
    "E = -C*y2\n",
    "D = -(A*x3**2 + B*x3*y3 + C*(y3**2-y2*y3))/x3\n",
    "D = Symbol('D')\n",
    "\n",
    "\n",
    "#x = -(D+E)/(A+B+C)\n",
    "#y = -(D+E)/(A+B+C)\n",
    "#x=-D/A\n",
    "#y=y3\n",
    "#y = 0\n",
    "H = (A+C - sqrt((A-C)**2 + B**2))\n",
    "\n",
    "e = (2*(A*E**2 - B*D*E + C*D**2)/(4*A*C-B**2))/H\n",
    "e"
   ]
  },
  {
   "cell_type": "code",
   "execution_count": 111,
   "metadata": {},
   "outputs": [
    {
     "data": {
      "image/png": "[encoded data removed]",
      "text/latex": [
       "$$\\left [ \\frac{- C w^{2} - C + \\sqrt{4 C^{2} w^{2} - w^{2} + 1}}{w^{2} - 1}, \\quad - \\frac{C w^{2} + C + \\sqrt{4 C^{2} w^{2} - w^{2} + 1}}{w^{2} - 1}\\right ]$$"
      ],
      "text/plain": [
       "⎡                __________________   ⎛              __________________⎞ ⎤\n",
       "⎢     2         ╱    2  2    2        ⎜   2         ╱    2  2    2     ⎟ ⎥\n",
       "⎢- C⋅w  - C + ╲╱  4⋅C ⋅w  - w  + 1   -⎝C⋅w  + C + ╲╱  4⋅C ⋅w  - w  + 1 ⎠ ⎥\n",
       "⎢──────────────────────────────────, ────────────────────────────────────⎥\n",
       "⎢               2                                    2                   ⎥\n",
       "⎣              w  - 1                               w  - 1               ⎦"
      ]
     },
     "execution_count": 111,
     "metadata": {},
     "output_type": "execute_result"
    }
   ],
   "source": [
    "A=Symbol('A')\n",
    "C = Symbol('C')\n",
    "\n",
    "e = w**2*(A+C)**2 - (A-C)**2 + 1\n",
    "U = solve(e, A)\n",
    "U"
   ]
  },
  {
   "cell_type": "code",
   "execution_count": 110,
   "metadata": {},
   "outputs": [
    {
     "data": {
      "image/png": "[encoded data removed]",
      "text/latex": [
       "$$\\left [ \\frac{w - \\sqrt{t^{2} + 1}}{2 t w}, \\quad \\frac{w + \\sqrt{t^{2} + 1}}{2 t w}\\right ]$$"
      ],
      "text/plain": [
       "⎡       ________         ________⎤\n",
       "⎢      ╱  2             ╱  2     ⎥\n",
       "⎢w - ╲╱  t  + 1   w + ╲╱  t  + 1 ⎥\n",
       "⎢───────────────, ───────────────⎥\n",
       "⎣     2⋅t⋅w            2⋅t⋅w     ⎦"
      ]
     },
     "execution_count": 110,
     "metadata": {},
     "output_type": "execute_result"
    }
   ],
   "source": [
    "e = -1/(U[0]-C) - t\n",
    "e\n",
    "\n",
    "solve(e, C)"
   ]
  },
  {
   "cell_type": "code",
   "execution_count": null,
   "metadata": {},
   "outputs": [],
   "source": []
  }
 ],
 "metadata": {
  "kernelspec": {
   "display_name": "Python 3",
   "language": "python",
   "name": "python3"
  },
  "language_info": {
   "codemirror_mode": {
    "name": "ipython",
    "version": 3
   },
   "file_extension": ".py",
   "mimetype": "text/x-python",
   "name": "python",
   "nbconvert_exporter": "python",
   "pygments_lexer": "ipython3",
   "version": "3.7.3"
  }
 },
 "nbformat": 4,
 "nbformat_minor": 2
}
