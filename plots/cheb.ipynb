{
 "cells": [
  {
   "cell_type": "code",
   "execution_count": 1,
   "metadata": {},
   "outputs": [],
   "source": [
    "import os\n",
    "import sys\n",
    "module_path = os.path.abspath(os.path.join('..'))\n",
    "if module_path not in sys.path:\n",
    "    sys.path.append(module_path)\n",
    "    \n",
    "from math import cos, sin, pi, sqrt, tan, fabs\n",
    "import numpy as np\n",
    "import matplotlib.pyplot as plt\n",
    "import matplotlib as mp\n",
    "from scipy import optimize\n",
    "\n",
    "from instances.parser import *\n",
    "from E3PNT.ThreePntEllipse import *\n",
    "from E3PNT.e3pnt import *\n",
    "from E3PNT.circumradius import *\n",
    "from E3PNT.poly_function import *\n",
    "\n",
    "import time\n",
    "\n",
    "%matplotlib inline"
   ]
  },
  {
   "cell_type": "code",
   "execution_count": 6,
   "metadata": {},
   "outputs": [
    {
     "name": "stderr",
     "output_type": "stream",
     "text": [
      "/home/danft/anaconda3/lib/python3.7/site-packages/numpy/core/numeric.py:591: ComplexWarning: Casting complex values to real discards the imaginary part\n",
      "  return array(a, dtype, copy=False, order=order, subok=True)\n"
     ]
    },
    {
     "data": {
      "image/png": "[encoded data removed]",
      "text/plain": [
       "<Figure size 432x288 with 1 Axes>"
      ]
     },
     "metadata": {
      "needs_background": "light"
     },
     "output_type": "display_data"
    },
    {
     "name": "stdout",
     "output_type": "stream",
     "text": [
      "Ellipse: (2.7, 1) and 3 points.\n",
      "Number of solutions: 6\n",
      "Avg. running time: 0.01735830307006836\n"
     ]
    }
   ],
   "source": [
    "I = parse_input('../instances/CM3.txt')\n",
    "X=I.X\n",
    "Y=I.Y\n",
    "n = len(X)\n",
    "a = I.a[1]\n",
    "b = I.b[1]\n",
    "tot = 0\n",
    "nit = 0\n",
    "nsols = 0\n",
    "tott = 0\n",
    "a = 2.7\n",
    "b = 1\n",
    "X = [-.85, .85, -0.1]\n",
    "Y = [0, 0, -1.72]\n",
    "\n",
    "X = [0, .5, 1]\n",
    "Y = [0, sqrt(3)/2, 0]\n",
    "\n",
    "X = list(map(lambda t: t * 2, X))\n",
    "Y = list(map(lambda t: t * 2, Y))\n",
    "\n",
    "n = len(X)\n",
    "\n",
    "\n",
    "for i in range(n):\n",
    "    for j in range(i+1, n):\n",
    "        for k in range(j+1, n):\n",
    "            for deg in [16]:\n",
    "                #sols = e3pnt(a, b, [X[i], X[j], X[k]], [Y[i], Y[j], Y[k]])\n",
    "                #nsols += len(sols)\n",
    "\n",
    "                def ffr(t):\n",
    "                    return fradius(t, a, b, [0, X[j]-X[i], X[k]-X[i]], [0, Y[j]-Y[i], Y[k]-Y[i]])\n",
    "\n",
    "                if discard(a, b, [X[i], X[j], X[k]], [Y[i], Y[j], Y[k]]):\n",
    "                    continue            \n",
    "\n",
    "                tot += 1\n",
    "                t1 = time.time()\n",
    "\n",
    "                cfuns = get_cheb_poly(a, b, [X[i], X[j], X[k]], [Y[i], Y[j], Y[k]], K=1, deg=deg)\n",
    "\n",
    "                for cfun in cfuns:\n",
    "                    l = cfun.domain[0]\n",
    "                    r = cfun.domain[-1]\n",
    "\n",
    "                    #plt.axvline(x=r)\n",
    "\n",
    "                    xx, yy = cfun.linspace(1000)\n",
    "\n",
    "                    roo = list(filter(lambda t: np.isreal(t) and t.real >= l and t.real <= r, cfun.roots()))\n",
    "                    nsols += len(roo)\n",
    "\n",
    "                    ro = []\n",
    "\n",
    "\n",
    "\n",
    "                    for r in roo:\n",
    "                        #print(\"Examining the root: \")\n",
    "                        rx = r.real\n",
    "                        for ka in range(0):\n",
    "                            ar = ffr(rx)\n",
    "                            #print(f\"niter: {ka}, error: {abs(ar)}\")\n",
    "                            rx = refine_root(ffr, cfun, r.real, 1)\n",
    "\n",
    "                        #print(f\"niter: {10}, error: {abs(ffr(rx))}\")\n",
    "\n",
    "                        error_1 = 0\n",
    "                        xc, yc = get_center_from_angle(rx, a, b, [X[i], X[j], X[k]], [Y[i], Y[j], Y[k]])\n",
    "                        for jj in range(3):\n",
    "                            error_1 += abs(1 - eval_ellipse(rx, a, b, xc, yc, X[jj], Y[jj]))\n",
    "\n",
    "                        #print(f\"niter: {10}, error1: {abs(ffr(rx))}, error2: {error_1}\")\n",
    "\n",
    "\n",
    "                        ro.append(refine_root(ffr, cfun, rx, 0))\n",
    "                    #print(roo)\n",
    "\n",
    "                    plt.scatter(roo, cfun(np.array(ro)))\n",
    "\n",
    "\n",
    "                    plt.plot(xx, yy, label=f'n={deg}')\n",
    "\n",
    "\n",
    "                #print(cfun)\n",
    "\n",
    "                x = np.linspace(0, pi, 2000)\n",
    "                tott += time.time() - t1\n",
    "\n",
    "            f1 = np.vectorize(fradius, excluded=[1, 2, 3, 4])\n",
    "            y1 = f1(x, a, b, [0, X[j]-X[i], X[k]-X[i]], [0, Y[j]-Y[i], Y[k]-Y[i]])\n",
    "\n",
    "            plt.plot(x, y1, label='\\u03BE')\n",
    "\n",
    "                #plt.show()            \n",
    "plt.legend()\n",
    "plt.savefig('inexn16.pdf', bbox_inches = 'tight', pad_inches = 0)\n",
    "plt.show()\n",
    "\n",
    "print(f\"Ellipse: ({a}, {b}) and {len(X)} points.\")\n",
    "print(f\"Number of solutions: {nsols}\")\n",
    "print(f\"Avg. running time: {tott/tot}\")"
   ]
  },
  {
   "cell_type": "code",
   "execution_count": 7,
   "metadata": {},
   "outputs": [
    {
     "name": "stdout",
     "output_type": "stream",
     "text": [
      "-------\n",
      "6\n",
      "2.924601958012055\n",
      "2.3113857979709325\n",
      "1.8774044068154576\n",
      "1.264188246774335\n",
      "0.83020685561886\n",
      "0.21699069557773756\n"
     ]
    },
    {
     "data": {
      "image/png": "[encoded data removed]",
      "text/plain": [
       "<Figure size 432x288 with 1 Axes>"
      ]
     },
     "metadata": {
      "needs_background": "light"
     },
     "output_type": "display_data"
    },
    {
     "name": "stdout",
     "output_type": "stream",
     "text": [
      "bla (-0.9765497488912973-0.2152918668699425j) -2.9246019580120555 1.0000000000000004\n",
      "bla (-0.9765497488912975+0.21529186686994267j) 2.924601958012055 1.0000000000000007\n",
      "bla (-0.6747231003831955-0.7380709571642079j) -2.311385797970932 1.0000000000000009\n",
      "bla (-0.3018266485081019-0.9533628240341487j) -1.8774044068154585 1.0000000000000002\n",
      "bla (-0.6747231003831952+0.7380709571642068j) 2.3113857979709325 0.9999999999999998\n",
      "bla (-0.30182664850810087+0.9533628240341482j) 1.8774044068154576 0.9999999999999994\n",
      "bla (0.30182664850810154-0.953362824034149j) -1.2641882467743353 1.0000000000000002\n",
      "bla (0.6747231003831966-0.7380709571642072j) -0.8302068556188599 1.000000000000001\n",
      "bla (0.301826648508102+0.9533628240341498j) 1.264188246774335 1.0000000000000013\n",
      "bla (0.6747231003831965+0.7380709571642072j) 0.83020685561886 1.0000000000000009\n",
      "bla (0.9765497488912971-0.2152918668699419j) -0.2169906955777374 1.0\n",
      "bla (0.9765497488912973+0.21529186686994212j) 0.21699069557773756 1.0000000000000002\n",
      "0.001856088638305664\n"
     ]
    }
   ],
   "source": [
    "I = parse_input('../instances/CM3.txt')\n",
    "X=I.X\n",
    "Y=I.Y\n",
    "n = len(X)\n",
    "a = I.a[0]\n",
    "b = I.b[0]\n",
    "tot = 0\n",
    "nit = 0\n",
    "nsols = 0\n",
    "tott = 0\n",
    "\n",
    "X = [0, .5, 1]\n",
    "Y = [0, sqrt(3)/2, 0]\n",
    "\n",
    "X = list(map(lambda t: t * 2, X))\n",
    "Y = list(map(lambda t: t * 2, Y))\n",
    "a = 3\n",
    "b = 1\n",
    "n = len(X)\n",
    "tavg = 0\n",
    "nit = 0\n",
    "\n",
    "for i in range(n):\n",
    "    for j in range(i+1, n):\n",
    "        for k in range(j+1, n):\n",
    "            \n",
    "            t1 = time.time()\n",
    "            \n",
    "            sols = e3pnt(a, b, [X[i], X[j], X[k]], [Y[i], Y[j], Y[k]])\n",
    "            nit+=1\n",
    "            tavg += time.time() - t1\n",
    "            \n",
    "            if len(sols) == 0:\n",
    "                continue\n",
    "            fig = plt.figure()\n",
    "            ax = fig.add_subplot(111, aspect='equal')\n",
    "            \n",
    "                \n",
    "            plt.scatter([X[i], X[j], X[k]], [Y[i], Y[j], Y[k]])\n",
    "            xmin = min([X[i], X[j], X[k]])\n",
    "            xmax = max([X[i], X[j], X[k]])\n",
    "            ymin = min([Y[i], Y[j], Y[k]])\n",
    "            ymax = max([Y[i], Y[j], Y[k]])\n",
    "            \n",
    "            print(\"-------\")\n",
    "            print(len(sols))\n",
    "            for s in sols:\n",
    "                xc, yc, theta = s\n",
    "                print(theta)\n",
    "                #print(theta/pi * 180)\n",
    "                \n",
    "                ax.add_artist(mp.patches.Ellipse([xc, yc], a * 2, b * 2, fill=False, angle=theta/pi * 180))\n",
    "                \n",
    "            ax.set_xlim(xmin-2, xmax+4)\n",
    "            ax.set_ylim(ymin-6, ymax+2)\n",
    "            plt.show()\n",
    "            \n",
    "            e3pnt(a, b, [X[i], X[j], X[k]], [Y[i], Y[j], Y[k]])\n",
    "            pcoeff = exp_poly_coeff(a, b, X[j]-X[i], X[k]-X[i], Y[j]-Y[i], Y[k]-Y[i])\n",
    "            roo = np.roots(pcoeff)\n",
    "            \n",
    "            for r in roo:\n",
    "                print(\"bla\", r, np.angle(r), np.absolute(r))\n",
    "            #roo = list(map(lambda r : -j*np.log(r), roo))\n",
    "            #roo = np.angle(roo)\n",
    "            #print(roo)\n",
    "                \n",
    "print(tavg / nit)"
   ]
  },
  {
   "cell_type": "code",
   "execution_count": null,
   "metadata": {},
   "outputs": [],
   "source": []
  },
  {
   "cell_type": "code",
   "execution_count": null,
   "metadata": {},
   "outputs": [],
   "source": []
  }
 ],
 "metadata": {
  "@webio": {
   "lastCommId": null,
   "lastKernelId": null
  },
  "kernelspec": {
   "display_name": "Python 3",
   "language": "python",
   "name": "python3"
  },
  "language_info": {
   "codemirror_mode": {
    "name": "ipython",
    "version": 3
   },
   "file_extension": ".py",
   "mimetype": "text/x-python",
   "name": "python",
   "nbconvert_exporter": "python",
   "pygments_lexer": "ipython3",
   "version": "3.7.3"
  }
 },
 "nbformat": 4,
 "nbformat_minor": 2
}
