{
 "cells": [
  {
   "cell_type": "code",
   "execution_count": 1,
   "metadata": {},
   "outputs": [],
   "source": [
    "import os\n",
    "import sys\n",
    "module_path = os.path.abspath(os.path.join('..'))\n",
    "if module_path not in sys.path:\n",
    "    sys.path.append(module_path)"
   ]
  },
  {
   "cell_type": "code",
   "execution_count": 2,
   "metadata": {},
   "outputs": [],
   "source": [
    "%matplotlib notebook\n",
    "import numpy as np\n",
    "import matplotlib.pyplot as plt\n",
    "import matplotlib as mp\n",
    "import matplotlib.cm as cm\n",
    "\n",
    "from instances.parser import *\n",
    "\n",
    "from math import atan, cos, sin, pi\n",
    "\n",
    "from E3PNT.e3pnt import *\n",
    "from E3PNT.poly_function import *\n",
    "from E2PNT.TwoPointEllipse import *\n",
    "\n",
    "import time\n",
    "colors = plt.rcParams['axes.prop_cycle'].by_key()['color']"
   ]
  },
  {
   "cell_type": "code",
   "execution_count": 92,
   "metadata": {},
   "outputs": [],
   "source": [
    "def p_ins(X, Y, k, a, b, wel, wpnt, filename):\n",
    "    fw = open(filename, \"w+\")\n",
    "    \n",
    "    n = len(X)\n",
    "    m = len(a)\n",
    "    \n",
    "    fw.write(f\"{str(m)}\\n\")\n",
    "    fw.write(f\"{str(k)}\\n\")\n",
    "    \n",
    "    for j in range(m):\n",
    "        fw.write(f\"{a[j]} {b[j]}\\n\")\n",
    "    for j in range(m):\n",
    "        fw.write(f\"{str(wel[j])}\\n\")\n",
    "        \n",
    "    fw.write(f\"{str(n)}\\n\")\n",
    "    \n",
    "    for j in range(n):\n",
    "        fw.write(f\"{X[j]} {Y[j]}\\n\")\n",
    "    for j in range(n):\n",
    "        fw.write(f\"{str(wpnt[j])}\\n\")\n",
    "    \n",
    "    fw.close()\n",
    "\n",
    "\n",
    "def f(n, m, s = 0, uni=False):\n",
    "\n",
    "    mean=[0, 0]\n",
    "    cov = [[1, 0], [0, 1]]\n",
    "\n",
    "    X, Y = np.random.multivariate_normal(mean, cov, n).T\n",
    "    \n",
    "    if uni:\n",
    "        X = np.random.rand(n)*10\n",
    "        Y = np.random.rand(n)*10\n",
    "\n",
    "    a = []\n",
    "    b = []\n",
    "    wel = []\n",
    "\n",
    "    #a = [.4, .6, .7, .9, 1, 1.1, 1.3, 1.4]\n",
    "    #b = [.3, .5, .3, .4, .6, .7, .9, 1]\n",
    "\n",
    "    for j in range(m):\n",
    "        a.append(abs(.5+np.random.rand()))\n",
    "        b.append(abs(.5+np.random.rand()))\n",
    "\n",
    "        if a[j] < b[j]:\n",
    "            a[j], b[j] = b[j], a[j]\n",
    "            wel.append(a[j] * b[j] * 10)\n",
    "\n",
    "    \n",
    "    wpnt = []\n",
    "    \n",
    "    for i in range(n):\n",
    "        if uni:\n",
    "            wpnt.append(1)\n",
    "        else:\n",
    "            wpnt.append(X[i]**2 + Y[i]**2)\n",
    "\n",
    "    #wpnt = [1]*n\n",
    "\n",
    "    for k in range(1,m+1):\n",
    "        p_ins(X, Y, k, a, b, wel, wpnt, 'TA{:03}.txt'.format(s+k))"
   ]
  },
  {
   "cell_type": "code",
   "execution_count": 90,
   "metadata": {},
   "outputs": [],
   "source": [
    "f(500, 5, 32, True)"
   ]
  },
  {
   "cell_type": "code",
   "execution_count": null,
   "metadata": {},
   "outputs": [],
   "source": []
  }
 ],
 "metadata": {
  "kernelspec": {
   "display_name": "Python 3",
   "language": "python",
   "name": "python3"
  },
  "language_info": {
   "codemirror_mode": {
    "name": "ipython",
    "version": 3
   },
   "file_extension": ".py",
   "mimetype": "text/x-python",
   "name": "python",
   "nbconvert_exporter": "python",
   "pygments_lexer": "ipython3",
   "version": "3.7.3"
  }
 },
 "nbformat": 4,
 "nbformat_minor": 2
}
