{
 "cells": [
  {
   "cell_type": "code",
   "execution_count": 1,
   "metadata": {
    "pycharm": {
     "is_executing": false
    },
    "tags": [
     "hide_input"
    ]
   },
   "outputs": [],
   "source": [
    "import os\n",
    "import sys\n",
    "module_path = os.path.abspath(os.path.join('..'))\n",
    "if module_path not in sys.path:\n",
    "    sys.path.append(module_path)\n",
    "    \n",
    "from sympy import solve\n",
    "from sympy import Symbol\n",
    "from math import cos, sin, pi, sqrt, tan, fabs\n",
    "import numpy as np\n",
    "import matplotlib.pyplot as plt\n",
    "from scipy import optimize\n",
    "from instances.parser import *\n",
    "from E3PNT.ThreePntEllipse import *\n",
    "from E3PNT.e3pnt import *\n",
    "from E3PNT.circumradius import *\n",
    "from pychebfun import *\n",
    "import time\n",
    "\n",
    "%matplotlib notebook\n",
    "%matplotlib inline"
   ]
  },
  {
   "cell_type": "code",
   "execution_count": 4,
   "metadata": {
    "pycharm": {
     "is_executing": false
    }
   },
   "outputs": [
    {
     "data": {
      "image/png": "[encoded data removed]",
      "text/plain": [
       "<Figure size 432x288 with 1 Axes>"
      ]
     },
     "metadata": {
      "needs_background": "light"
     },
     "output_type": "display_data"
    },
    {
     "ename": "IndexError",
     "evalue": "list index out of range",
     "output_type": "error",
     "traceback": [
      "\u001b[0;31m---------------------------------------------------------------------------\u001b[0m",
      "\u001b[0;31mIndexError\u001b[0m                                Traceback (most recent call last)",
      "\u001b[0;32m<ipython-input-4-b2dbdd64ca7b>\u001b[0m in \u001b[0;36m<module>\u001b[0;34m\u001b[0m\n\u001b[1;32m     26\u001b[0m \u001b[0;34m\u001b[0m\u001b[0m\n\u001b[1;32m     27\u001b[0m \u001b[0;34m\u001b[0m\u001b[0m\n\u001b[0;32m---> 28\u001b[0;31m             \u001b[0mcfuns\u001b[0m \u001b[0;34m=\u001b[0m \u001b[0mget_cheb_poly\u001b[0m\u001b[0;34m(\u001b[0m\u001b[0ma\u001b[0m\u001b[0;34m,\u001b[0m \u001b[0mb\u001b[0m\u001b[0;34m,\u001b[0m \u001b[0;34m[\u001b[0m\u001b[0mX\u001b[0m\u001b[0;34m[\u001b[0m\u001b[0mi\u001b[0m\u001b[0;34m]\u001b[0m\u001b[0;34m,\u001b[0m \u001b[0mX\u001b[0m\u001b[0;34m[\u001b[0m\u001b[0mj\u001b[0m\u001b[0;34m]\u001b[0m\u001b[0;34m,\u001b[0m \u001b[0mX\u001b[0m\u001b[0;34m[\u001b[0m\u001b[0mk\u001b[0m\u001b[0;34m]\u001b[0m\u001b[0;34m]\u001b[0m\u001b[0;34m,\u001b[0m \u001b[0;34m[\u001b[0m\u001b[0mY\u001b[0m\u001b[0;34m[\u001b[0m\u001b[0mi\u001b[0m\u001b[0;34m]\u001b[0m\u001b[0;34m,\u001b[0m \u001b[0mY\u001b[0m\u001b[0;34m[\u001b[0m\u001b[0mj\u001b[0m\u001b[0;34m]\u001b[0m\u001b[0;34m,\u001b[0m \u001b[0mY\u001b[0m\u001b[0;34m[\u001b[0m\u001b[0mk\u001b[0m\u001b[0;34m]\u001b[0m\u001b[0;34m]\u001b[0m\u001b[0;34m)\u001b[0m\u001b[0;34m\u001b[0m\u001b[0;34m\u001b[0m\u001b[0m\n\u001b[0m\u001b[1;32m     29\u001b[0m \u001b[0;34m\u001b[0m\u001b[0m\n\u001b[1;32m     30\u001b[0m             \u001b[0;32mfor\u001b[0m \u001b[0mcfun\u001b[0m \u001b[0;32min\u001b[0m \u001b[0mcfuns\u001b[0m\u001b[0;34m:\u001b[0m\u001b[0;34m\u001b[0m\u001b[0;34m\u001b[0m\u001b[0m\n",
      "\u001b[0;31mIndexError\u001b[0m: list index out of range"
     ]
    }
   ],
   "source": [
    "I = parse_input('../instances/danft1.txt')\n",
    "X=I.X\n",
    "Y=I.Y\n",
    "\n",
    "n = len(X)\n",
    "a = I.a[1]\n",
    "b = I.b[1]\n",
    "tot = 0\n",
    "nit = 0\n",
    "nsols = 0\n",
    "tott = 0\n",
    "\n",
    "a = 2.7\n",
    "b = 1\n",
    "X = [-.85, .85, -0.1]\n",
    "Y = [0, 0, -1.72]\n",
    "\n",
    "\n",
    "for i in range(n):\n",
    "    for j in range(i+1, n):\n",
    "        for k in range(j+1, n):\n",
    "            #sols = e3pnt(a, b, [X[i], X[j], X[k]], [Y[i], Y[j], Y[k]])\n",
    "            #nsols += len(sols)\n",
    "            tot += 1\n",
    "            t1 = time.time()\n",
    "            \n",
    "            \n",
    "            cfuns = get_cheb_poly(a, b, [X[i], X[j], X[k]], [Y[i], Y[j], Y[k]])\n",
    "            \n",
    "            for cfun in cfuns:\n",
    "                l = cfun.domain[0]\n",
    "                r = cfun.domain[-1]\n",
    "                \n",
    "                #plt.axvline(x=r)\n",
    "                \n",
    "                xx, yy = cfun.linspace(1000)\n",
    "                \n",
    "                roo = list(filter(lambda t: np.isreal(t) and t.real >= l and t.real <= r, cfun.roots()))\n",
    "                nsols += len(roo)\n",
    "                \n",
    "                #print(roo)\n",
    "\n",
    "                plt.scatter(roo, cfun(np.real(roo)))\n",
    "                \n",
    "                \n",
    "                plt.plot(xx, yy)\n",
    "\n",
    "            \n",
    "            #print(cfun)\n",
    "            \n",
    "            x = np.linspace(0, pi, 2000)\n",
    "            tott += time.time() - t1\n",
    "            \n",
    "            f1 = np.vectorize(fradius, excluded=[1, 2, 3, 4])\n",
    "            y1 = f1(x, a, b, [0, X[j]-X[i], X[k]-X[i]], [0, Y[j]-Y[i], Y[k]-Y[i]])\n",
    "                        \n",
    "            plt.plot(x, y1)\n",
    "            plt.savefig(f'ps/{i}{j}{k}.pdf')\n",
    "\n",
    "            plt.show()\n",
    "       \n",
    "                \n",
    "\n",
    "print(f\"Ellipse: ({a}, {b}) and {len(X)} points.\")\n",
    "print(f\"Avg. of number of solutions: {nsols}\")\n",
    "print(f\"Avg. running time: {tott/tot}\")"
   ]
  },
  {
   "cell_type": "code",
   "execution_count": 5,
   "metadata": {
    "pycharm": {
     "is_executing": false
    },
    "tags": [
     "hide_input"
    ]
   },
   "outputs": [],
   "source": [
    "def isInc(f, x):\n",
    "    eps=1e-9\n",
    "    return f(x+eps) > f(x)\n",
    "\n",
    "from scipy.optimize import minimize_scalar\n",
    "\n",
    "    \n",
    "def get_center(theta, a, b, h, x, y):\n",
    "    #print(theta)\n",
    "    m = tan(theta)\n",
    "\n",
    "    B = a**2*m**2 + b**2\n",
    "    A = 4*a**2*b**2*(1+m**2)\n",
    "    D = 4*h**2\n",
    "    c = sqrt((B*A-D*B**2)/A)\n",
    "    alx = (-a**2*m*c+a*b*sqrt(a**2*m**2+b**2-c**2))/(a**2*m**2+b**2)\n",
    "    aly = alx * m + c\n",
    "    px = h * cos(theta)\n",
    "    py = h * sin(theta)\n",
    "    bx = alx - px\n",
    "    by = aly - py\n",
    "    xc = bx * cos(theta) + by * sin(theta)\n",
    "    yc = bx * sin(theta) - by * cos(theta)\n",
    "\n",
    "    return xc, yc\n",
    "\n",
    "def fk(theta, a, b, h, x, y):\n",
    "\n",
    "    #print(\"bla\", theta, tu)\n",
    "    xc, yc = get_center(theta, a, b, h, x, y)\n",
    "    X = xc-x\n",
    "    Y = yc-y\n",
    "    return (X*cos(theta) + Y*sin(theta))**2/a**2 + (X*sin(theta) - Y*cos(theta))**2/b**2 - 1\n",
    "\n",
    "def g(a, b, h, x, y, tu):   \n",
    "    \n",
    "    t1 = time.time()\n",
    "    \n",
    "    #res = minimize_scalar(fk, bounds=(0, tu-0.001), method='bounded', args=(a, b, h, x, y))\n",
    "    #f1 = Chebfun.from_function(lambda t: fk(t, a, b, h, x, y), domain=(0, tu-0.01))\n",
    "    fp = find_roots(fk, domain=[0, tu-0.00001], args=(a, b, h, x, y))\n",
    "    \n",
    "    #print(\"COEF:\", coef)\n",
    "    ro=fp.roots()\n",
    "    #print(ro)\n",
    "    #ro=[]\n",
    "    #fp = np.poly1d(np.flip(fp.coef))\n",
    "    \n",
    "    #print(fp)\n",
    "    \n",
    "    \n",
    "    #res = find_roots(fk, 0, tu-0.001, 0, (a, b, h, x, y))\n",
    "    #print(res)\n",
    "    \n",
    "    \n",
    "    arr = np.linspace(0.0001, max(tu-0.00001, 0.0001), 2000)\n",
    "    ds = [fk(t, a, b, h, x, y) for t in arr]\n",
    "    d2 = [fp(t) for t in arr]\n",
    "\n",
    "\n",
    "    plt.plot(arr, ds)\n",
    "    #plt.plot(arr, d2)\n",
    "    \n",
    "    nsols = len(ro)\n",
    "    \n",
    "    for s in ro:\n",
    "        if not np.iscomplex(s) and s.real > 0 and s.real < tu:\n",
    "            \n",
    "            plt.scatter([s.real], [fp(s.real)])\n",
    "    \n",
    "    plt.show()\n",
    "    return time.time()-t1, nsols\n",
    "    \n",
    "    "
   ]
  },
  {
   "cell_type": "code",
   "execution_count": null,
   "metadata": {},
   "outputs": [],
   "source": []
  }
 ],
 "metadata": {
  "@webio": {
   "lastCommId": null,
   "lastKernelId": null
  },
  "celltoolbar": "Edit Metadata",
  "kernelspec": {
   "display_name": "Python 3",
   "language": "python",
   "name": "python3"
  },
  "language_info": {
   "codemirror_mode": {
    "name": "ipython",
    "version": 3
   },
   "file_extension": ".py",
   "mimetype": "text/x-python",
   "name": "python",
   "nbconvert_exporter": "python",
   "pygments_lexer": "ipython3",
   "version": "3.7.3"
  }
 },
 "nbformat": 4,
 "nbformat_minor": 2
}
