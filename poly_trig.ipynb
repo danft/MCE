{
 "cells": [
  {
   "cell_type": "code",
   "execution_count": 2,
   "metadata": {},
   "outputs": [],
   "source": [
    "from sympy import solve\n",
    "from sympy import Symbol"
   ]
  },
  {
   "cell_type": "code",
   "execution_count": 3,
   "metadata": {},
   "outputs": [],
   "source": [
    "def ddet(x1, y1, x2, y2):\n",
    "    return x1 * y2 - y1 * x2"
   ]
  },
  {
   "cell_type": "code",
   "execution_count": 6,
   "metadata": {},
   "outputs": [
    {
     "name": "stdout",
     "output_type": "stream",
     "text": [
      "0.0 0.0 0.0 0.0 -0.0 232162.8134765625 -0.0 0.0\n"
     ]
    },
    {
     "data": {
      "text/plain": [
       "[{r: -0.107590510516973*s - 6.01966553131239e-9*sqrt(319450236328125.0*s**4 + 464325626953124.0)/s},\n",
       " {r: -0.107590510516973*s + 6.01966553131239e-9*sqrt(319450236328125.0*s**4 + 464325626953124.0)/s}]"
      ]
     },
     "execution_count": 6,
     "metadata": {},
     "output_type": "execute_result"
    }
   ],
   "source": [
    "\n",
    "x1, y1, x2, y2, x3, y3 = 0, 0, 10, 0, 5, 2\n",
    "a = 5\n",
    "b = 2\n",
    "q = a**2 / b**2\n",
    "\n",
    "De = ddet(x3, y3, x3-x2, y3-y2)\n",
    "g1 = (x3 * (x3 - x2) + q * y3 * (y3-y2))/De\n",
    "g2 = (q-1) * (y3*(x3-x2) + x3*(y3-y2))/De\n",
    "g3 = (y3 * (y3-y2) + q * x3 * (x3-x2))/De\n",
    "\n",
    "ph1 = g1**2\n",
    "ph2 = 2*g1 * g2\n",
    "ph3 = 2*g1 * g3 + g2**2\n",
    "ph4 = 2 * g2 * g3\n",
    "ph5 = g3**2\n",
    "\n",
    "hh1 = (x2**2 + q**2 * y2**2 + q**2*x2**2)\n",
    "hh2 = 2 * x2 * y2 *(q**2-1)\n",
    "hh3 = 2*(q-q**2)*(x2**2 + y2**2)\n",
    "\n",
    "A1 = ph1 * hh1\n",
    "A2 = ph2 * hh1 + ph1 * hh2\n",
    "A3 = ph3 * hh1\n",
    "A4 = ph3 * hh2 + hh1 * ph4\n",
    "A5 = hh3 * g1\n",
    "A6 = hh1 * ph5 + hh2 * ph4\n",
    "A7 = hh3 * g2\n",
    "A8 = hh2 * ph5\n",
    "A9 = hh3 * g3\n",
    "\n",
    "A0 = -4 * a**2 * q**2\n",
    "\n",
    "print(A1, A2, A3, A4, A5, A6, A7, A8)\n",
    "\n",
    "r=Symbol('r')\n",
    "s=Symbol('s')\n",
    "\n",
    "e1 = A1 * r**6 + A2 * r**5*s + A3 * r**4*s**2 + A4 * r**3*s**3 + A5 * r**3*s + A6 * r**2*s**2 + A7*r**2 + A8*r*s**5 + A9*r*s**3 + A0\n",
    "e2 = r**2 + s**2 -1\n",
    "solve([e1])"
   ]
  },
  {
   "cell_type": "code",
   "execution_count": 28,
   "metadata": {},
   "outputs": [
    {
     "name": "stdout",
     "output_type": "stream",
     "text": [
      "4.730385101646223 3.153590067764149\n",
      "4.8x^2+2.4000000000000004xy+3y^2+-32.0x+-6y=0\n"
     ]
    }
   ],
   "source": [
    "from math import cos, sin, pi, sqrt\n",
    "h = 0\n",
    "k = 1\n",
    "th = pi/2\n",
    "a = 3\n",
    "b = 2\n",
    "A = 4.8\n",
    "#B = (1/a**2 - 1/b**2) * sin(2*th)\n",
    "C = 3\n",
    "q = a**2 / b**2\n",
    "w = (a**2-b**2)/(a**2+b**2)\n",
    "\n",
    "#print(w**2*(A+C)**2 - (A-C)**2)\n",
    "B = sqrt(w**2*(A+C)**2 - (A-C)**2)\n",
    "\n",
    "#B = (A+C**2)*(1-q)**2 - (A-C)**2\n",
    "\n",
    "x1, y1, x2, y2, x3, y3 = (0,0, 0, 2, 3, 4)\n",
    "\n",
    "E = -C*y2\n",
    "D = -(A*x3**2 + B*x3*y3 + C*(y3**2-y2*y3))/x3\n",
    "\n",
    "#print(B**2-4*A*C)\n",
    "\n",
    "ar = sqrt((2*(A*E**2 - B*D*E + C*D**2)/(4*A*C-B**2))/(A+C - sqrt((A-C)**2 + B**2)))\n",
    "br = sqrt((2*(A*E**2 - B*D*E + C*D**2)/(4*A*C-B**2))/(A+C + sqrt((A-C)**2 + B**2)))\n",
    "\n",
    "\n",
    "print(ar, br)\n",
    "#print(q, ar**2/br**2)\n",
    "#print(f\"x^2/{ar**2} + y^2/{br**2}=1\")\n",
    "print(f\"{A}x^2+{B}xy+{C}y^2+{D}x+{E}y=0\")"
   ]
  },
  {
   "cell_type": "code",
   "execution_count": null,
   "metadata": {},
   "outputs": [],
   "source": []
  }
 ],
 "metadata": {
  "kernelspec": {
   "display_name": "Python 3",
   "language": "python",
   "name": "python3"
  },
  "language_info": {
   "codemirror_mode": {
    "name": "ipython",
    "version": 3
   },
   "file_extension": ".py",
   "mimetype": "text/x-python",
   "name": "python",
   "nbconvert_exporter": "python",
   "pygments_lexer": "ipython3",
   "version": "3.7.3"
  }
 },
 "nbformat": 4,
 "nbformat_minor": 2
}
