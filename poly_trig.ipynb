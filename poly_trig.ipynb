{
 "cells": [
  {
   "cell_type": "code",
   "execution_count": 2,
   "metadata": {},
   "outputs": [],
   "source": [
    "from sympy import solve\n",
    "from sympy import Symbol"
   ]
  },
  {
   "cell_type": "code",
   "execution_count": 3,
   "metadata": {},
   "outputs": [],
   "source": [
    "def ddet(x1, y1, x2, y2):\n",
    "    return x1 * y2 - y1 * x2"
   ]
  },
  {
   "cell_type": "code",
   "execution_count": 6,
   "metadata": {},
   "outputs": [
    {
     "name": "stdout",
     "output_type": "stream",
     "text": [
      "0.0 0.0 0.0 0.0 -0.0 232162.8134765625 -0.0 0.0\n"
     ]
    },
    {
     "data": {
      "text/plain": [
       "[{r: -0.107590510516973*s - 6.01966553131239e-9*sqrt(319450236328125.0*s**4 + 464325626953124.0)/s},\n",
       " {r: -0.107590510516973*s + 6.01966553131239e-9*sqrt(319450236328125.0*s**4 + 464325626953124.0)/s}]"
      ]
     },
     "execution_count": 6,
     "metadata": {},
     "output_type": "execute_result"
    }
   ],
   "source": [
    "\n",
    "x1, y1, x2, y2, x3, y3 = 0, 0, 10, 0, 5, 2\n",
    "a = 5\n",
    "b = 2\n",
    "q = a**2 / b**2\n",
    "\n",
    "De = ddet(x3, y3, x3-x2, y3-y2)\n",
    "g1 = (x3 * (x3 - x2) + q * y3 * (y3-y2))/De\n",
    "g2 = (q-1) * (y3*(x3-x2) + x3*(y3-y2))/De\n",
    "g3 = (y3 * (y3-y2) + q * x3 * (x3-x2))/De\n",
    "\n",
    "ph1 = g1**2\n",
    "ph2 = 2*g1 * g2\n",
    "ph3 = 2*g1 * g3 + g2**2\n",
    "ph4 = 2 * g2 * g3\n",
    "ph5 = g3**2\n",
    "\n",
    "hh1 = (x2**2 + q**2 * y2**2 + q**2*x2**2)\n",
    "hh2 = 2 * x2 * y2 *(q**2-1)\n",
    "hh3 = 2*(q-q**2)*(x2**2 + y2**2)\n",
    "\n",
    "A1 = ph1 * hh1\n",
    "A2 = ph2 * hh1 + ph1 * hh2\n",
    "A3 = ph3 * hh1\n",
    "A4 = ph3 * hh2 + hh1 * ph4\n",
    "A5 = hh3 * g1\n",
    "A6 = hh1 * ph5 + hh2 * ph4\n",
    "A7 = hh3 * g2\n",
    "A8 = hh2 * ph5\n",
    "A9 = hh3 * g3\n",
    "\n",
    "A0 = -4 * a**2 * q**2\n",
    "\n",
    "print(A1, A2, A3, A4, A5, A6, A7, A8)\n",
    "\n",
    "r=Symbol('r')\n",
    "s=Symbol('s')\n",
    "\n",
    "e1 = A1 * r**6 + A2 * r**5*s + A3 * r**4*s**2 + A4 * r**3*s**3 + A5 * r**3*s + A6 * r**2*s**2 + A7*r**2 + A8*r*s**5 + A9*r*s**3 + A0\n",
    "e2 = r**2 + s**2 -1\n",
    "solve([e1])"
   ]
  },
  {
   "cell_type": "code",
   "execution_count": 20,
   "metadata": {},
   "outputs": [
    {
     "name": "stdout",
     "output_type": "stream",
     "text": [
      "-4.5 -4.5 7.5 4.0 -6.0\n",
      "-11.25 6.75 7.0 -2\n",
      "0.0 6.0 -3.0\n",
      "0.25x^2+0.05555555555555555xy+0.1111111111111111y^2+0.04398148148148149x+0.8298611111111112y+-2.892361111111111=0\n"
     ]
    }
   ],
   "source": [
    "from math import cos, sin, pi\n",
    "h = 0\n",
    "k = 1\n",
    "th = pi/2\n",
    "a = 3\n",
    "b = 2\n",
    "A = 1/a**2 * cos(th)**2 + 1/b**2*sin(th)**2\n",
    "#B = (1/a**2 - 1/b**2) * sin(2*th)\n",
    "C = 1/b**2 * cos(th)**2 + 1/a**2*sin(th)**2\n",
    "\n",
    "x1, y1, x2, y2, x3, y3 = (-3, 1, 3, 1, 0, 3)\n",
    "\n",
    "ald = x1-x2 - (x1-x3)*(y1-y2)/(y1-y3)\n",
    "ala = (x1**2 - x3**2)/(y1-y3) -x1**2 +x2**2\n",
    "alb = (x1*y1 - x3*y3)/(y1-y3) -x1*y1 + x2*y2\n",
    "alc = (y1**2 - y3**2)/(y1-y3) -y1**2 + y2**2\n",
    "\n",
    "betae = y1-y3\n",
    "betaa = -x1**2 +x3**2 + (x1-x3)*ala/ald\n",
    "betab = -x1*y1 + x3*y3 + (x1-x3)*alb/ald\n",
    "betac = -y1**2 + y3*2 + (x1-x3)*alc/ald\n",
    "\n",
    "print(ala, ala, alb, alc, ald)\n",
    "print(betaa, betab, betac, betae)\n",
    "\n",
    "gammaa = x2**2 - x3**2 + (x2-x3)*ala/ald + (y2-y3)*betaa/betae\n",
    "gammab = x2*y2 - x3*y3 + (x2-x3)*alb/ald + (y2-y3)*betab/betae\n",
    "gammac = y2**2 - y3**2 + (x2-x3)*alc/ald + (y2-y3)*betac/betae\n",
    "\n",
    "print(gammaa, gammab, gammac)\n",
    "\n",
    "B = -(A*gammaa + C * gammac) / gammab\n",
    "\n",
    "D = (A*ala + B * alb + C*alc)/ald\n",
    "\n",
    "E = (A*betaa + B*betab + C*betac)/betae\n",
    "\n",
    "F = -(A*x1**2 + B * x1*y1 + C * y1**2 + D * x1 + E * y1)\n",
    "\n",
    "print(f\"{A}x^2+{B}xy+{C}y^2+{D}x+{E}y+{F}=0\")"
   ]
  },
  {
   "cell_type": "code",
   "execution_count": null,
   "metadata": {},
   "outputs": [],
   "source": []
  }
 ],
 "metadata": {
  "kernelspec": {
   "display_name": "Python 3",
   "language": "python",
   "name": "python3"
  },
  "language_info": {
   "codemirror_mode": {
    "name": "ipython",
    "version": 3
   },
   "file_extension": ".py",
   "mimetype": "text/x-python",
   "name": "python",
   "nbconvert_exporter": "python",
   "pygments_lexer": "ipython3",
   "version": "3.7.3"
  }
 },
 "nbformat": 4,
 "nbformat_minor": 2
}
