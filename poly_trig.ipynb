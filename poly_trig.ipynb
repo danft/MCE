{
 "cells": [
  {
   "cell_type": "code",
   "execution_count": 8,
   "metadata": {},
   "outputs": [],
   "source": [
    "from sympy import solve\n",
    "from sympy import Symbol"
   ]
  },
  {
   "cell_type": "code",
   "execution_count": 16,
   "metadata": {},
   "outputs": [],
   "source": [
    "def ddet(x1, y1, x2, y2):\n",
    "    return x1 * y2 - y1 * x2"
   ]
  },
  {
   "cell_type": "code",
   "execution_count": 18,
   "metadata": {},
   "outputs": [
    {
     "data": {
      "text/plain": [
       "[{r: -0.991642926312817, s: -0.129012816005828},\n",
       " {r: -0.991142768924554, s: 0.132800646115022},\n",
       " {r: -0.273475913863804, s: 0.961878851278246},\n",
       " {r: -0.0611967065968320, s: -0.998125725097646},\n",
       " {r: 0.0611967065968320, s: 0.998125725097646},\n",
       " {r: 0.273475913863804, s: -0.961878851278246},\n",
       " {r: 0.991142768924554, s: -0.132800646115022},\n",
       " {r: 0.991642926312817, s: 0.129012816005828}]"
      ]
     },
     "execution_count": 18,
     "metadata": {},
     "output_type": "execute_result"
    }
   ],
   "source": [
    "\n",
    "x1, y1, x2, y2, x3, y3 = 0, 0, 10, 0, 5, 2\n",
    "a = 5\n",
    "b = 2\n",
    "q = a**2 / b**2\n",
    "\n",
    "De = ddet(x3, y3, x3-x2, y3-y2)\n",
    "g1 = (x3 * (x3 - x2) + q * y3 * (y3-y2))/De\n",
    "g2 = (q-1) * (y3*(x3-x2) + x3*(y3-y2))/De\n",
    "g3 = (y3 * (y3-y2) + q * x3 * (x3-x2))/De\n",
    "\n",
    "ph1 = g1**2\n",
    "ph2 = 2*g1 * g2\n",
    "ph3 = 2*g1 * g3 + g2**2\n",
    "ph4 = 2 * g2 * g3\n",
    "ph5 = g3**2\n",
    "\n",
    "hh1 = (x2**2 + q**2 * y2**2 + q**2*x2**2)\n",
    "hh2 = 2 * x2 * y2 *(q**2-1)\n",
    "hh3 = 2*(q-q**2)*(x2**2 + y2**2)\n",
    "\n",
    "A1 = ph1 * hh1\n",
    "A2 = ph2 * hh1 + ph1 * hh2\n",
    "A3 = ph3 * hh1\n",
    "A4 = ph3 * hh2 + hh1 * ph4\n",
    "A5 = hh3 * g1\n",
    "A6 = hh1 * ph5 + hh2 * ph4\n",
    "A7 = hh3 * g2\n",
    "A8 = hh2 * ph5\n",
    "A9 = hh3 * g3\n",
    "\n",
    "A0 = -4 * a**2 * q**2\n",
    "\n",
    "r=Symbol('r')\n",
    "s=Symbol('s')\n",
    "\n",
    "e1 = A1 * r**6 + A2 * r**5*s + A3 * r**4*s**2 + A4 * r**3*s**3 + A5 * r**3*s + A6 * r**2*s**2 + A7*r**2 + A8*r*s**5 + A9*r*s**3 + A0\n",
    "e2 = r**2 + s**2 -1\n",
    "solve([e1, e2])"
   ]
  },
  {
   "cell_type": "code",
   "execution_count": null,
   "metadata": {},
   "outputs": [],
   "source": []
  }
 ],
 "metadata": {
  "kernelspec": {
   "display_name": "Python 3",
   "language": "python",
   "name": "python3"
  },
  "language_info": {
   "codemirror_mode": {
    "name": "ipython",
    "version": 3
   },
   "file_extension": ".py",
   "mimetype": "text/x-python",
   "name": "python",
   "nbconvert_exporter": "python",
   "pygments_lexer": "ipython3",
   "version": "3.7.3"
  }
 },
 "nbformat": 4,
 "nbformat_minor": 2
}
