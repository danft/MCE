{
 "cells": [
  {
   "cell_type": "code",
   "execution_count": 4,
   "metadata": {
    "pycharm": {
     "is_executing": false
    }
   },
   "outputs": [
    {
     "name": "stdout",
     "output_type": "stream",
     "text": [
      "The autoreload extension is already loaded. To reload it, use:\n",
      "  %reload_ext autoreload\n"
     ]
    }
   ],
   "source": [
    "from math import cos, sin, pi, sqrt, tan, fabs\n",
    "import numpy as np\n",
    "import matplotlib.pyplot as plt\n",
    "from matplotlib import patches\n",
    "from ThreePointEllipse.ThreePntEllipse import *\n",
    "\n",
    "%load_ext autoreload\n",
    "%autoreload 2"
   ]
  },
  {
   "cell_type": "code",
   "execution_count": 5,
   "metadata": {
    "pycharm": {
     "is_executing": false
    }
   },
   "outputs": [
    {
     "name": "stdout",
     "output_type": "stream",
     "text": [
      "[Point(x=-4.005621050473947, y=0), Point(x=4.005621050473947, y=0.0), Point(x=-0.07863949086315358, y=-1.9946969269733121)]\n",
      "64.18000000000004 64 85.92562153554346 1.499685007617779\n",
      "64.18000000000004 64.40386413212848\n",
      "[]\n"
     ]
    },
    {
     "data": {
      "image/png": "[encoded data removed]",
      "text/plain": [
       "<Figure size 432x288 with 1 Axes>"
      ]
     },
     "metadata": {
      "needs_background": "light"
     },
     "output_type": "display_data"
    },
    {
     "data": {
      "image/png": "[encoded data removed]",
      "text/plain": [
       "<Figure size 432x288 with 1 Axes>"
      ]
     },
     "metadata": {
      "needs_background": "light"
     },
     "output_type": "display_data"
    }
   ],
   "source": [
    "arr = np.linspace(0.0001, pi/2-0.00001, 2000)\n",
    "\n",
    "a=6\n",
    "b=4\n",
    "\n",
    "xa = -0.07863949086315358\n",
    "ya = -1.9946969269733121\n",
    "hh = 4.005621050473947\n",
    "\n",
    "\n",
    "fig = plt.figure()\n",
    "ax = fig.add_subplot(111, aspect='equal')\n",
    "\n",
    "\n",
    "ctx = Context(a, b, -hh, 0, hh, 0, xa, ya)\n",
    "#ctx.x_mirror()\n",
    "#ctx.y_mirror()\n",
    "#ctx.x_mirror()\n",
    "\n",
    "helper = Helper(ctx)\n",
    "\n",
    "print(ctx.p)\n",
    "\n",
    "#tr = get_transitions(ctx)\n",
    "\n",
    "tu = get_upper_limit(ctx)\n",
    "\n",
    "print(ctx.d, 4*b*b, tu/pi * 180, tu)\n",
    "print(ctx.d, 4 * (a**2 * cos(tu)**2 + b**2 * sin(tu)**2))\n",
    "arr = np.linspace(0.0001, tu-0.01, 2000)\n",
    "\n",
    "if tu < 1e-9:\n",
    "    arr = []\n",
    "\n",
    "ds = [helper.g(t) for t in arr]\n",
    "plt.plot(arr, ds)\n",
    "tr = [1/3 * tu, 2/3 * tu]\n",
    "plt.axvline(x=min(tr[0], tr[1]))\n",
    "plt.axvline(x=max(tr[0], tr[1]))\n",
    "#t1 = min(tr[0], tr[1])\n",
    "#t2 = max(tr[0], tr[1])\n",
    "\n",
    "#print(helper.g(findMin(helper.g, 0, t1)))\n",
    "fig = plt.figure()\n",
    "\n",
    "ax = fig.add_subplot(111, aspect='equal')\n",
    "\n",
    "\n",
    "sols = three_point_ellipse(2.7, 1, -hh, 0, hh, 0, xa, ya)\n",
    "print(sols)\n",
    "\n",
    "plt.scatter([-hh, hh, xa], [0,0,ya])\n",
    "\n",
    "ax.set_xlim(-5, 5)\n",
    "ax.set_ylim(-5, 5)\n",
    "for s in sols:\n",
    "    cp, theta = s\n",
    "    print(f\"{cp.x}, {cp.y}, {theta}\")\n",
    "    print(a, b)\n",
    "    e = patches.Ellipse(xy=[cp.x, cp.y], width=2*a, height=2*b,\n",
    "                     angle=theta/pi * 180, fill=False)\n",
    "    ax.add_artist(e)\n",
    "    \n",
    "#plt.show()\n",
    "\n",
    "#problematica cases\n",
    "# a=2.7, b=1; h=1.33; (-0.1, -1.82)\n",
    "\n",
    "# case with 4 solutions\n",
    "# a=2.7, b=1; h=0.85; (-0.1, -1.72)"
   ]
  },
  {
   "cell_type": "code",
   "execution_count": 28,
   "metadata": {
    "pycharm": {}
   },
   "outputs": [
    {
     "name": "stdout",
     "output_type": "stream",
     "text": [
      "-0.955047369681598 0.0\n",
      "0.9550473696815982 1.1102230246251565e-16\n",
      "0.4743857742612756 0.44721515347233204\n"
     ]
    },
    {
     "data": {
      "image/png": "[encoded data removed]",
      "text/plain": [
       "<Figure size 432x288 with 1 Axes>"
      ]
     },
     "metadata": {
      "needs_background": "light"
     },
     "output_type": "display_data"
    },
    {
     "data": {
      "image/png": "[encoded data removed]",
      "text/plain": [
       "<Figure size 432x288 with 1 Axes>"
      ]
     },
     "metadata": {
      "needs_background": "light"
     },
     "output_type": "display_data"
    }
   ],
   "source": [
    "import random\n",
    "\n",
    "a = 2\n",
    "b = 0.9\n",
    "def fp(ax, sols):\n",
    "    for s in sols:\n",
    "        cp, theta = s\n",
    "        #print(f\"{cp.x}, {cp.y}, {theta}\")\n",
    "        #print(a, b)\n",
    "        e = patches.Ellipse(xy=[cp.x, cp.y], width=2*a, height=2*b,\n",
    "                         angle=theta/pi * 180, fill=False)\n",
    "        ax.add_artist(e)\n",
    "    \n",
    "def pl_f(ax, X, Y):\n",
    "    #ax.set_ylim(0, 1.2)\n",
    "    ctx = Context(a, b, X[0], Y[0], X[1], Y[1], X[2], Y[2])\n",
    "    ctx.x_mirror()\n",
    "    ctx.y_mirror()\n",
    "    print(ctx.p[0].x, ctx.p[0].y)\n",
    "    print(ctx.p[1].x, ctx.p[1].y)\n",
    "    print(ctx.p[2].x, ctx.p[2].y)\n",
    "\n",
    "    helper = Helper(ctx)\n",
    "    tr = get_transitions(ctx)\n",
    "    tu = get_upper_limit(ctx)\n",
    "    plt.axvline(x=min(tr[0], tr[1]))\n",
    "    plt.axvline(x=max(tr[0], tr[1]))\n",
    "    \n",
    "    arr = np.linspace(0.0001, tu-0.00001, 2000)\n",
    "    ds = [helper.g(t) for t in arr]\n",
    "    ax.plot(arr, ds)\n",
    "\n",
    "X = [random.random()*3 - 1 for i in range(3)]\n",
    "Y = [random.random()*3 - 1 for i in range(3)]\n",
    "    \n",
    "fig = plt.figure()\n",
    "ax = fig.add_subplot(111, aspect='equal')\n",
    "pl_f(ax, X, Y)\n",
    "\n",
    "fig = plt.figure()\n",
    "ax = fig.add_subplot(111, aspect='equal')\n",
    "ax.set_xlim(-4, 4)\n",
    "ax.set_ylim(-3, 4)\n",
    "\n",
    "\n",
    "plt.scatter(X, Y)\n",
    "\n",
    "sols = three_point_ellipse(a, b, X[0], Y[0], X[1], Y[1], X[2], Y[2])\n",
    "fp(ax, sols)"
   ]
  },
  {
   "cell_type": "code",
   "execution_count": null,
   "metadata": {
    "pycharm": {}
   },
   "outputs": [],
   "source": []
  },
  {
   "cell_type": "code",
   "execution_count": null,
   "metadata": {
    "pycharm": {}
   },
   "outputs": [],
   "source": []
  }
 ],
 "metadata": {
  "@webio": {
   "lastCommId": null,
   "lastKernelId": null
  },
  "kernelspec": {
   "display_name": "Python 3",
   "language": "python",
   "name": "python3"
  },
  "language_info": {
   "codemirror_mode": {
    "name": "ipython",
    "version": 3
   },
   "file_extension": ".py",
   "mimetype": "text/x-python",
   "name": "python",
   "nbconvert_exporter": "python",
   "pygments_lexer": "ipython3",
   "version": "3.7.3"
  }
 },
 "nbformat": 4,
 "nbformat_minor": 2
}
