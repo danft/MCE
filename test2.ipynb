{
 "cells": [
  {
   "cell_type": "code",
   "execution_count": 1,
   "metadata": {
    "pycharm": {
     "is_executing": false
    }
   },
   "outputs": [],
   "source": [
    "from math import cos, sin, pi, sqrt, tan, fabs\n",
    "import numpy as np\n",
    "import matplotlib.pyplot as plt\n",
    "from matplotlib import patches\n",
    "from Ellipse import *\n",
    "\n",
    "from MCER import *\n",
    "from Tree import *\n",
    "from instances.parser import *"
   ]
  },
  {
   "cell_type": "code",
   "execution_count": 8,
   "metadata": {
    "pycharm": {
     "is_executing": false
    }
   },
   "outputs": [
    {
     "name": "stdout",
     "output_type": "stream",
     "text": [
      "instance(n=25, m=3, X=[11.5, 13.4, 4.2, 39.9, 14.2, 17.1, 24.6, 30.8, 37.5, 12.7, 49.1, 27.3, 45.6, 3.4, 48.5, 48.5, 8.6, 11.2, 27.1, 29.4, 3.5, 29.1, 38.9, 13.4, 44.7], Y=[43.2, 42.6, 39.9, 38.4, 47.5, 22.0, 14.1, 18.3, 27.3, 26.3, 44.6, 14.1, 11.1, 30.8, 30.6, 19.0, 39.7, 34.9, 1.3, 9.3, 15.8, 6.8, 18.6, 17.2, 9.7], a=[6.0, 8.0, 10.0], b=[4.0, 5.0, 6.0], point_weight=[1.0, 1.0, 1.0], ellipse_weight=[2.0, 3.2, 4.8])\n",
      "Point(x=9.125250076799656, y=38.858178747755694) 0.4102610549223433\n",
      "4\n"
     ]
    },
    {
     "data": {
      "image/png": "[encoded data removed]",
      "text/plain": [
       "<Figure size 432x288 with 1 Axes>"
      ]
     },
     "metadata": {
      "needs_background": "light"
     },
     "output_type": "display_data"
    }
   ],
   "source": [
    "I = parse_input('instances/CM3.txt')\n",
    "print(I)\n",
    "\n",
    "X=I.X\n",
    "Y=I.Y\n",
    "e=Ellipse(I.a[0],I.b[0])\n",
    "\n",
    "c=MCER1(X, Y, e)\n",
    "print(c.center, c.angle)\n",
    "\n",
    "print(eval_cover(X, Y, e, c))\n",
    "\n",
    "plot_cover(c, X, Y, e.a, e.b)"
   ]
  },
  {
   "cell_type": "code",
   "execution_count": 7,
   "metadata": {
    "pycharm": {}
   },
   "outputs": [],
   "source": [
    "def plot_cover(c, X, Y, a, b):\n",
    "    fig = plt.figure()\n",
    "    ax = fig.add_subplot(111, aspect='equal')\n",
    "    ax.scatter(X, Y)\n",
    "    e = patches.Ellipse(xy=[c.center.x, c.center.y], width=2*a, height=2*b, angle=c.angle*180/pi, fill=False)\n",
    "    ax.add_artist(e)\n",
    "    plt.show()\n"
   ]
  },
  {
   "cell_type": "code",
   "execution_count": 4,
   "metadata": {
    "pycharm": {}
   },
   "outputs": [
    {
     "data": {
      "text/plain": [
       "False"
      ]
     },
     "execution_count": 4,
     "metadata": {},
     "output_type": "execute_result"
    }
   ],
   "source": [
    "T=Tree()\n",
    "T.add_nodes([1, 2, 3])\n",
    "T.has([1, 2, 4])"
   ]
  }
 ],
 "metadata": {
  "@webio": {
   "lastCommId": null,
   "lastKernelId": null
  },
  "kernelspec": {
   "display_name": "Python 3",
   "language": "python",
   "name": "python3"
  },
  "language_info": {
   "codemirror_mode": {
    "name": "ipython",
    "version": 3
   },
   "file_extension": ".py",
   "mimetype": "text/x-python",
   "name": "python",
   "nbconvert_exporter": "python",
   "pygments_lexer": "ipython3",
   "version": "3.7.3"
  }
 },
 "nbformat": 4,
 "nbformat_minor": 2
}
